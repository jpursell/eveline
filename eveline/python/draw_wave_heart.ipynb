{
 "cells": [
  {
   "cell_type": "code",
   "execution_count": null,
   "id": "5fd82c93-d4ea-4531-bc47-748049e33483",
   "metadata": {},
   "outputs": [],
   "source": [
    "import holoviews as hv\n",
    "import numpy as np\n",
    "from icecream import ic"
   ]
  },
  {
   "cell_type": "code",
   "execution_count": null,
   "id": "ad9465cc-618c-4f8c-a591-feea1bbf818d",
   "metadata": {},
   "outputs": [],
   "source": [
    "hv.extension(\"bokeh\")"
   ]
  },
  {
   "cell_type": "code",
   "execution_count": null,
   "id": "285a02f6-5560-4b36-a333-a28b0223f2c1",
   "metadata": {},
   "outputs": [],
   "source": [
    "n = 180\n",
    "dr = np.radians(1.0)\n",
    "\n",
    "t0 = np.arange(n) * dr\n",
    "r0 = t0\n",
    "t1 = np.arange(n, n * 2) * dr\n",
    "r1 = 2 * np.pi - t1\n",
    "t = np.concatenate((t0, t1))\n",
    "r = np.exp(np.concatenate((r0, r1)))\n",
    "hv.Curve(r)"
   ]
  },
  {
   "cell_type": "code",
   "execution_count": null,
   "id": "063e0c45-e2e3-4ebc-a1e1-cb58cbce9428",
   "metadata": {},
   "outputs": [],
   "source": [
    "x = r * np.cos(t)\n",
    "y = r * np.sin(t)\n",
    "pts = list(zip(x, y))\n",
    "\n",
    "(\n",
    "    hv.Curve(pts) *\n",
    "    hv.Scatter(pts[:1]).opts(size=10, color=\"blue\") * \n",
    "    hv.Scatter(pts[-1:]).opts(size=5, color=\"red\")).opts(aspect=\"equal\")"
   ]
  },
  {
   "cell_type": "code",
   "execution_count": null,
   "id": "de58140e-bf3e-4b59-b35d-30acc9c5e84f",
   "metadata": {},
   "outputs": [],
   "source": []
  },
  {
   "cell_type": "code",
   "execution_count": null,
   "id": "c7fd3043-50b1-4278-9278-465e3622a223",
   "metadata": {},
   "outputs": [],
   "source": []
  }
 ],
 "metadata": {
  "kernelspec": {
   "display_name": "Python 3 (ipykernel)",
   "language": "python",
   "name": "python3"
  },
  "language_info": {
   "codemirror_mode": {
    "name": "ipython",
    "version": 3
   },
   "file_extension": ".py",
   "mimetype": "text/x-python",
   "name": "python",
   "nbconvert_exporter": "python",
   "pygments_lexer": "ipython3",
   "version": "3.11.8"
  }
 },
 "nbformat": 4,
 "nbformat_minor": 5
}
