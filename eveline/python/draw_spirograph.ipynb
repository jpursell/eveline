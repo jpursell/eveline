{
 "cells": [
  {
   "cell_type": "code",
   "execution_count": null,
   "id": "5fd82c93-d4ea-4531-bc47-748049e33483",
   "metadata": {},
   "outputs": [],
   "source": [
    "import holoviews as hv\n",
    "import numpy as np\n",
    "from icecream import ic"
   ]
  },
  {
   "cell_type": "code",
   "execution_count": null,
   "id": "ad9465cc-618c-4f8c-a591-feea1bbf818d",
   "metadata": {},
   "outputs": [],
   "source": [
    "hv.extension(\"bokeh\")"
   ]
  },
  {
   "cell_type": "code",
   "execution_count": null,
   "id": "86058d83-31f4-493b-a241-d82b3e3f4737",
   "metadata": {},
   "outputs": [],
   "source": [
    "n = 1800\n",
    "dr = np.radians(1.0)\n",
    "\n",
    "t = np.arange(n) * dr\n",
    "a = -18.\n",
    "radius = 10\n",
    "r = radius * np.sin(a/5 * t)\n",
    "\n",
    "x = r * np.cos(t)\n",
    "y = r * np.sin(t)\n",
    "pts = list(zip(x, y))\n",
    "\n",
    "(\n",
    "    hv.Curve(pts) *\n",
    "    hv.Scatter(pts[:1]).opts(size=10, color=\"blue\") * \n",
    "    hv.Scatter(pts[-1:]).opts(size=5, color=\"red\")).opts(aspect=\"equal\")"
   ]
  },
  {
   "cell_type": "code",
   "execution_count": null,
   "id": "de58140e-bf3e-4b59-b35d-30acc9c5e84f",
   "metadata": {},
   "outputs": [],
   "source": []
  },
  {
   "cell_type": "code",
   "execution_count": null,
   "id": "c7fd3043-50b1-4278-9278-465e3622a223",
   "metadata": {},
   "outputs": [],
   "source": []
  }
 ],
 "metadata": {
  "kernelspec": {
   "display_name": "Python 3 (ipykernel)",
   "language": "python",
   "name": "python3"
  },
  "language_info": {
   "codemirror_mode": {
    "name": "ipython",
    "version": 3
   },
   "file_extension": ".py",
   "mimetype": "text/x-python",
   "name": "python",
   "nbconvert_exporter": "python",
   "pygments_lexer": "ipython3",
   "version": "3.11.8"
  }
 },
 "nbformat": 4,
 "nbformat_minor": 5
}
