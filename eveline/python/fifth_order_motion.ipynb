{
 "cells": [
  {
   "cell_type": "markdown",
   "id": "4a4f5531-503e-44b5-9a3a-236de2e3e68d",
   "metadata": {},
   "source": [
    "https://youtu.be/0ZqeBEa_MWo?si=AOSTaCKcB7v3CLN8&t=103\n",
    "\n",
    "`[{a0: 0, a1: 0, a2: 0, a3: 10/T**3, a4: -15/T**4, a5: 6/T**5}]`"
   ]
  },
  {
   "cell_type": "code",
   "execution_count": null,
   "id": "f8d00b14-bb98-4906-8fea-37d68ce98029",
   "metadata": {},
   "outputs": [],
   "source": [
    "import sympy"
   ]
  },
  {
   "cell_type": "code",
   "execution_count": null,
   "id": "abc5723f-b2e7-4ec3-911e-2ecbd048c470",
   "metadata": {},
   "outputs": [],
   "source": [
    "t, T, a0, a1, a2, a3, a4, a5 = sympy.symbols('t T a0 a1 a2 a3 a4 a5') "
   ]
  },
  {
   "cell_type": "code",
   "execution_count": null,
   "id": "e9e847df-6ca6-4bd5-ba4c-e2d301d8afb8",
   "metadata": {},
   "outputs": [],
   "source": [
    "s = a0 + a1 * t + a2 * t ** 2 + a3 * t ** 3 + a4 * t ** 4 + a5 * t ** 5"
   ]
  },
  {
   "cell_type": "code",
   "execution_count": null,
   "id": "24f07f9c-e225-4c3b-867f-0ddaa58116df",
   "metadata": {},
   "outputs": [],
   "source": [
    "#s = a0 + a1 * t + a2 * t ** 2 + a3 * t ** 3"
   ]
  },
  {
   "cell_type": "code",
   "execution_count": null,
   "id": "a3c784b0-fe13-41b8-8a1d-e8270017076a",
   "metadata": {},
   "outputs": [],
   "source": [
    "sd = sympy.diff(s, t)"
   ]
  },
  {
   "cell_type": "code",
   "execution_count": null,
   "id": "4f80f8d0-1183-42b3-80c4-ac018f1c8e16",
   "metadata": {},
   "outputs": [],
   "source": [
    "sd2 = sympy.diff(sd, t)"
   ]
  },
  {
   "cell_type": "code",
   "execution_count": null,
   "id": "e182e19b-303d-4184-93ba-f42d89b81b70",
   "metadata": {},
   "outputs": [],
   "source": [
    "sol = sympy.solve(\n",
    "    [\n",
    "        s.subs(t, 0),\n",
    "        s.subs(t, T)-1,\n",
    "        sd.subs(t, 0),\n",
    "        sd.subs(t, T),\n",
    "        sd2.subs(t, 0),\n",
    "        sd2.subs(t, T),\n",
    "    ],\n",
    "    a0, a1, a2, a3, a4, a5, dict=True)"
   ]
  },
  {
   "cell_type": "code",
   "execution_count": null,
   "id": "fe09a255-4f62-46fa-9aba-b72a57c33f60",
   "metadata": {},
   "outputs": [],
   "source": [
    "sol"
   ]
  },
  {
   "cell_type": "code",
   "execution_count": null,
   "id": "c5b93385-6f70-445d-b675-67d943615682",
   "metadata": {},
   "outputs": [],
   "source": [
    "s.subs(sol[0]).subs(t, 0)"
   ]
  },
  {
   "cell_type": "code",
   "execution_count": null,
   "id": "e7d1583e-4dfb-4b92-a66f-38993b429ef9",
   "metadata": {},
   "outputs": [],
   "source": [
    "s.subs(sol[0]).subs(t, T)"
   ]
  },
  {
   "cell_type": "code",
   "execution_count": null,
   "id": "b88f118d-c09b-47d5-bf19-99594688b8d2",
   "metadata": {},
   "outputs": [],
   "source": [
    "sd.subs(sol[0]).subs(t, 0)"
   ]
  },
  {
   "cell_type": "code",
   "execution_count": null,
   "id": "b7ed6a62-4b92-428b-9d77-40629e935aa2",
   "metadata": {},
   "outputs": [],
   "source": [
    "sd.subs(sol[0]).subs(t, T)"
   ]
  },
  {
   "cell_type": "code",
   "execution_count": null,
   "id": "00d02d95-7072-44aa-bd3e-9d28202a7136",
   "metadata": {},
   "outputs": [],
   "source": [
    "sd2.subs(sol[0]).subs(t, 0)"
   ]
  },
  {
   "cell_type": "code",
   "execution_count": null,
   "id": "44d09ea8-1eaa-4ffd-9104-25795d7bccf0",
   "metadata": {},
   "outputs": [],
   "source": [
    "sd2.subs(sol[0]).subs(t, T)"
   ]
  }
 ],
 "metadata": {
  "kernelspec": {
   "display_name": "Python 3 (ipykernel)",
   "language": "python",
   "name": "python3"
  },
  "language_info": {
   "codemirror_mode": {
    "name": "ipython",
    "version": 3
   },
   "file_extension": ".py",
   "mimetype": "text/x-python",
   "name": "python",
   "nbconvert_exporter": "python",
   "pygments_lexer": "ipython3",
   "version": "3.11.8"
  }
 },
 "nbformat": 4,
 "nbformat_minor": 5
}
