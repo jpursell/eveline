{
 "cells": [
  {
   "cell_type": "code",
   "execution_count": null,
   "id": "282ca4df-8ada-4212-a972-87f9687593d6",
   "metadata": {},
   "outputs": [],
   "source": [
    "import holoviews as hv\n",
    "import numpy as np\n",
    "import pandas as pd\n",
    "from icecream import ic"
   ]
  },
  {
   "cell_type": "code",
   "execution_count": null,
   "id": "063942bb-021c-44a7-9d85-64ec0a9e7e77",
   "metadata": {},
   "outputs": [],
   "source": [
    "hv.extension(\"bokeh\")"
   ]
  },
  {
   "cell_type": "code",
   "execution_count": null,
   "id": "dd0fbea7-875c-4dad-8e20-7d6511441e0f",
   "metadata": {},
   "outputs": [],
   "source": [
    "spool_radius = 5.75\n",
    "gear_ratio = (59.0 / 17.0) ** 2\n",
    "STEP_DIVISION = 1\n",
    "motor_steps_per_revolution = 100 * STEP_DIVISION\n",
    "spool_circumfrence = spool_radius * 2 * np.pi\n",
    "ic(spool_circumfrence)\n",
    "steps_per_mm = motor_steps_per_revolution * gear_ratio / spool_circumfrence\n",
    "ic(steps_per_mm)\n",
    "max_rpm = 100.0\n",
    "max_revs_per_second = max_rpm / 60.0\n",
    "max_steps_per_second = max_revs_per_second * motor_steps_per_revolution\n",
    "ic(max_steps_per_second)\n",
    "max_velocity = max_steps_per_second / steps_per_mm\n",
    "ic(max_velocity)\n",
    "max_acceleration = 1.0\n",
    "max_jerk = 1.0"
   ]
  },
  {
   "cell_type": "code",
   "execution_count": null,
   "id": "bd0eed83-bd14-4f82-b6a7-ec6c268cc795",
   "metadata": {},
   "outputs": [],
   "source": [
    "state = {\n",
    "    'position': 0,\n",
    "    'velocity': 0,\n",
    "    'time': 0,\n",
    "    'jerk': 1,\n",
    "    'acceleration': 0\n",
    "}\n",
    "dt = 0.01\n",
    "hist = []\n",
    "hist.append(state.copy())\n",
    "# mode should go from \n",
    "# reach_max_acceleration (jerk = max_jerk)\n",
    "# accelerate (jerk = 0)\n",
    "# decelerate_to_reach_max_velocity (jerk = -max_jerk)\n",
    "# max_velocity (jerk = 0)\n",
    "# and then similar process to slow down\n",
    "mode = \"reach_max_acceleration\"\n",
    "for i in range(1000):\n",
    "    state['time'] += dt\n",
    "    if state[\"acceleration\"] >= max_acceleration:\n",
    "        state[\"jerk\"] = 0\n",
    "    # we need to solve pice-wise integrals\n",
    "    time_to_reach_min_acceleration = (state[\"acceleration\"] + max_acceleration) / max_jerk\n",
    "    time_to_kill_velocity = state[\"velocity\"]  / max_accleration\n",
    "    time_to_kill_velocity = state[\"velocity\"] / state[\"acceleration\"]\n",
    "    if state[\"velocity\"] >= \n",
    "    state['acceleration'] += dt * state['jerk']\n",
    "    state['velocity'] += state['acceleration'] * dt\n",
    "    state['position'] += state['velocity'] * dt\n",
    "    hist.append(state.copy())"
   ]
  },
  {
   "cell_type": "code",
   "execution_count": null,
   "id": "6f10dce2-5b5e-421c-a239-555075565789",
   "metadata": {},
   "outputs": [],
   "source": [
    "(\n",
    "    hv.Curve(pd.DataFrame(hist), \"time\", \"jerk\", label=\"jerk\") +\n",
    "    hv.Curve(pd.DataFrame(hist), \"time\", \"acceleration\", label=\"acceleration\") +\n",
    "    hv.Curve(pd.DataFrame(hist), \"time\", \"velocity\", label=\"velocity\") +\n",
    "    hv.Curve(pd.DataFrame(hist), \"time\", \"position\", label=\"position\"))"
   ]
  },
  {
   "cell_type": "code",
   "execution_count": null,
   "id": "40fdaa28-2e55-4c62-8a0f-2bd13e0445aa",
   "metadata": {},
   "outputs": [],
   "source": []
  }
 ],
 "metadata": {
  "kernelspec": {
   "display_name": "Python 3 (ipykernel)",
   "language": "python",
   "name": "python3"
  },
  "language_info": {
   "codemirror_mode": {
    "name": "ipython",
    "version": 3
   },
   "file_extension": ".py",
   "mimetype": "text/x-python",
   "name": "python",
   "nbconvert_exporter": "python",
   "pygments_lexer": "ipython3",
   "version": "3.12.2"
  }
 },
 "nbformat": 4,
 "nbformat_minor": 5
}
