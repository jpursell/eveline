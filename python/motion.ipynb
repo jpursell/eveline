{
 "cells": [
  {
   "cell_type": "code",
   "execution_count": null,
   "id": "282ca4df-8ada-4212-a972-87f9687593d6",
   "metadata": {},
   "outputs": [],
   "source": [
    "import numpy as np\n",
    "import pandas as pd\n",
    "from icecream import ic"
   ]
  },
  {
   "cell_type": "code",
   "execution_count": null,
   "id": "dd0fbea7-875c-4dad-8e20-7d6511441e0f",
   "metadata": {},
   "outputs": [],
   "source": [
    "spool_radius = 5.75\n",
    "gear_ratio = (59.0 / 17.0) ** 2\n",
    "STEP_DIVISION = 1\n",
    "motor_steps_per_revolution = 100 * STEP_DIVISION\n",
    "spool_circumfrence = spool_radius * 2 * np.pi\n",
    "ic(spool_circumfrence)\n",
    "steps_per_mm = motor_steps_per_revolution * gear_ratio / spool_circumfrence\n",
    "ic(steps_per_mm)\n",
    "max_rpm = 100.0\n",
    "max_revs_per_second = max_rpm / 60.0\n",
    "max_steps_per_second = max_revs_per_second * motor_steps_per_revolution\n",
    "ic(max_steps_per_second)\n",
    "max_velocity = max_steps_per_second / steps_per_mm\n",
    "ic(max_velocity)\n",
    "max_acceleration = 1.0\n",
    "max_jerk = 1.0"
   ]
  },
  {
   "cell_type": "code",
   "execution_count": null,
   "id": "bd0eed83-bd14-4f82-b6a7-ec6c268cc795",
   "metadata": {},
   "outputs": [],
   "source": [
    "state = {\n",
    "    'position': 0,\n",
    "    'velocity': 0,\n",
    "    'time': 0,\n",
    "    'jerk': 1,\n",
    "    'acceleration': 0\n",
    "}\n",
    "dt = 0.01\n",
    "hist = []\n",
    "hist.append(state.copy())\n",
    "for i in range(100):\n",
    "    state['acceleration'] += dt * state['jerk']"
   ]
  }
 ],
 "metadata": {
  "kernelspec": {
   "display_name": "Python 3 (ipykernel)",
   "language": "python",
   "name": "python3"
  },
  "language_info": {
   "codemirror_mode": {
    "name": "ipython",
    "version": 3
   },
   "file_extension": ".py",
   "mimetype": "text/x-python",
   "name": "python",
   "nbconvert_exporter": "python",
   "pygments_lexer": "ipython3",
   "version": "3.12.2"
  }
 },
 "nbformat": 4,
 "nbformat_minor": 5
}
