{
 "cells": [
  {
   "cell_type": "markdown",
   "id": "4a4f5531-503e-44b5-9a3a-236de2e3e68d",
   "metadata": {},
   "source": [
    "https://youtu.be/0ZqeBEa_MWo?si=AOSTaCKcB7v3CLN8&t=103"
   ]
  },
  {
   "cell_type": "code",
   "execution_count": null,
   "id": "f8d00b14-bb98-4906-8fea-37d68ce98029",
   "metadata": {},
   "outputs": [],
   "source": [
    "import sympy"
   ]
  },
  {
   "cell_type": "code",
   "execution_count": null,
   "id": "abc5723f-b2e7-4ec3-911e-2ecbd048c470",
   "metadata": {},
   "outputs": [],
   "source": [
    "s, t, a0, a1, a2, a3, a4, a5 = sympy.symbols('s t a0 a1 a2 a3 a4 a5') "
   ]
  },
  {
   "cell_type": "code",
   "execution_count": null,
   "id": "e9e847df-6ca6-4bd5-ba4c-e2d301d8afb8",
   "metadata": {},
   "outputs": [],
   "source": []
  }
 ],
 "metadata": {
  "kernelspec": {
   "display_name": "Python 3 (ipykernel)",
   "language": "python",
   "name": "python3"
  },
  "language_info": {
   "codemirror_mode": {
    "name": "ipython",
    "version": 3
   },
   "file_extension": ".py",
   "mimetype": "text/x-python",
   "name": "python",
   "nbconvert_exporter": "python",
   "pygments_lexer": "ipython3",
   "version": "3.11.8"
  }
 },
 "nbformat": 4,
 "nbformat_minor": 5
}
