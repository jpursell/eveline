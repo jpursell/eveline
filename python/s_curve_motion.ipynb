{
 "cells": [
  {
   "cell_type": "markdown",
   "id": "2cc0685c-c21f-432f-8b1f-fda0faa42d89",
   "metadata": {},
   "source": [
    "https://youtu.be/0ZqeBEa_MWo?si=euGFINmBNnY8qPbn&t=149"
   ]
  },
  {
   "cell_type": "code",
   "execution_count": null,
   "id": "282ca4df-8ada-4212-a972-87f9687593d6",
   "metadata": {},
   "outputs": [],
   "source": [
    "import copy\n",
    "\n",
    "import holoviews as hv\n",
    "import numpy as np\n",
    "import pandas as pd\n",
    "import sympy\n",
    "from icecream import ic"
   ]
  },
  {
   "cell_type": "code",
   "execution_count": null,
   "id": "063942bb-021c-44a7-9d85-64ec0a9e7e77",
   "metadata": {},
   "outputs": [],
   "source": [
    "hv.extension(\"bokeh\")"
   ]
  },
  {
   "cell_type": "code",
   "execution_count": null,
   "id": "dd0fbea7-875c-4dad-8e20-7d6511441e0f",
   "metadata": {},
   "outputs": [],
   "source": [
    "spool_radius = 5.75\n",
    "gear_ratio = (59.0 / 17.0) ** 2\n",
    "STEP_DIVISION = 1\n",
    "motor_steps_per_revolution = 100 * STEP_DIVISION\n",
    "spool_circumfrence = spool_radius * 2 * np.pi\n",
    "ic(spool_circumfrence)\n",
    "steps_per_mm = motor_steps_per_revolution * gear_ratio / spool_circumfrence\n",
    "ic(steps_per_mm)\n",
    "max_rpm = 100.0\n",
    "max_revs_per_second = max_rpm / 60.0\n",
    "max_steps_per_second = max_revs_per_second * motor_steps_per_revolution\n",
    "ic(max_steps_per_second)\n",
    "max_velocity = max_steps_per_second / steps_per_mm\n",
    "ic(max_velocity)\n",
    "max_acceleration = 1.0\n",
    "max_jerk = 1.0"
   ]
  },
  {
   "cell_type": "code",
   "execution_count": null,
   "id": "793047a9-37f4-4b97-86d4-941f3dcf637f",
   "metadata": {},
   "outputs": [],
   "source": [
    "def s_curve(max_d):\n",
    "    \"\"\"Solve minimal s curve that hits parameters\n",
    "\n",
    "    max_d: [0: max_velocity, 1: max_acceleration, 2: max_jerk]\n",
    "    \"\"\"\n",
    "    nd = len(max_d)\n",
    "    assert nd == 3\n",
    "    ns = 7\n",
    "    # x [0: positions, 1: velocity, 2: acceleration, 3: jerk]\n",
    "    sc = [{\"t\":0.0, \"dt\": 0.0, \"x\": np.zeros(nd + 1), \"dx\": np.zeros(nd + 1)} for i in range(ns)]\n",
    "    jerk_stage_sign = [1, 0, -1, 0, -1, 0, 1]\n",
    "    coast_stage = 3\n",
    "\n",
    "    dt_jerk = min(max_d[1] / max_d[2], np.sqrt(max_d[0] * 2 / max_d[2]))\n",
    "    dv_jerk = 1 / 2 * max_d[2] * dt_jerk ** 2\n",
    "    dt_acceleration = (max_d[0] - dv_jerk * 2) / max_d[1]\n",
    "\n",
    "    for(i, dt) in enumerate([dt_jerk, dt_acceleration, dt_jerk, 0.0, dt_jerk, dt_acceleration, dt_jerk]):\n",
    "        sc[i][\"dt\"] = dt\n",
    "        if i == 0:\n",
    "            t_prev = 0\n",
    "        else:\n",
    "            t_prev = sc[i - 1][\"t\"]\n",
    "        sc[i][\"t\"] = t_prev + sc[i][\"dt\"]\n",
    "    \n",
    "    for i in range(ns):\n",
    "        if i == 0:\n",
    "            x_prev = [0.0 for _ in range(nd + 1)]\n",
    "        else:\n",
    "            x_prev = sc[i - 1][\"x\"]\n",
    "        # set jerk\n",
    "        sc[i][\"x\"][3] = max_d[2] * jerk_stage_sign[i]\n",
    "        sc[i][\"dx\"][3] = sc[i][\"x\"][3] - x_prev[3]\n",
    "        # set d_acceleration\n",
    "        sc[i][\"dx\"][2] = sc[i][\"x\"][3] * sc[i][\"dt\"]\n",
    "        # set d_velocity\n",
    "        sc[i][\"dx\"][1] = x_prev[2] * sc[i][\"dt\"] + 1 / 2 * sc[i][\"x\"][3] * sc[i][\"dt\"] ** 2\n",
    "        # set d_position\n",
    "        sc[i][\"dx\"][0] = x_prev[1] * sc[i][\"dt\"] + 1 / 2 * x_prev[2] * sc[i][\"dt\"] ** 2 + 1 / 6 * sc[i][\"x\"][3] * sc[i][\"dt\"] ** 3\n",
    "        # set x\n",
    "        sc[i][\"x\"] = x_prev + sc[i][\"dx\"]\n",
    "    return sc\n",
    "    # todo: use this to generate both full curve and minimal, 4 stage curve\n",
    "    # make sanity check function"
   ]
  },
  {
   "cell_type": "code",
   "execution_count": null,
   "id": "0e836e06-3aca-485e-b7dd-7886e1957491",
   "metadata": {},
   "outputs": [],
   "source": [
    "def s_curve_long(sc, dt):\n",
    "    # x [0: positions, 1: velocity, 2: acceleration, 3: jerk]\n",
    "    nx = len(sc[0][\"x\"])\n",
    "    state = {\"t\": 0.0, \"x\": np.zeros(nx), \"p\": 0.0, \"v\": 0.0, \"a\": 0.0, \"j\": 0.0}\n",
    "    curve = [state.copy()]\n",
    "    for i in range(len(sc)):\n",
    "        if i > 0:\n",
    "            state[\"x\"] = sc[i - 1][\"x\"].copy()\n",
    "        while state[\"t\"] < sc[i][\"t\"]:\n",
    "            state[\"t\"] += dt\n",
    "            state[\"x\"][3] = sc[i][\"x\"][3]\n",
    "            state[\"x\"][2] += state[\"x\"][3] * dt\n",
    "            state[\"x\"][1] += state[\"x\"][2] * dt\n",
    "            state[\"x\"][0] += state[\"x\"][1] * dt\n",
    "            state[\"p\"] = state[\"x\"][0]\n",
    "            state[\"v\"] = state[\"x\"][1]\n",
    "            state[\"a\"] = state[\"x\"][2]\n",
    "            state[\"j\"] = state[\"x\"][3]\n",
    "            curve.append(state.copy())\n",
    "        error = np.abs(state[\"x\"][0] - sc[i][\"x\"][0])\n",
    "        assert error / dt < 10\n",
    "    \n",
    "    return curve"
   ]
  },
  {
   "cell_type": "markdown",
   "id": "b02f8877-e9a8-4632-b799-106d50e8908d",
   "metadata": {},
   "source": [
    "# Full S Curve\n",
    "\n",
    "Solve full s curve with all stages but no coasting. Any amount longer and we need to coast"
   ]
  },
  {
   "cell_type": "code",
   "execution_count": null,
   "id": "eba8e47e-0127-44fd-9768-39261e89682e",
   "metadata": {},
   "outputs": [],
   "source": [
    "sc = s_curve([max_velocity, max_acceleration, max_jerk])\n",
    "sc[6]"
   ]
  },
  {
   "cell_type": "markdown",
   "id": "9d0130cf-5e33-44e9-8785-e27e02c62981",
   "metadata": {},
   "source": [
    "# Minimual S Curve\n",
    "\n",
    "Solve longest all-jerk s curve with no max_acceleration portion. Any longer and we have a truncated max_acceleration stage. Any shorter and we have a truncated max_jerk stages."
   ]
  },
  {
   "cell_type": "code",
   "execution_count": null,
   "id": "0ff08422-87bc-41f5-927a-736d45d22d08",
   "metadata": {},
   "outputs": [],
   "source": [
    "sc_min = s_curve([sc[0][\"x\"][1] * 2, max_acceleration, max_jerk])"
   ]
  },
  {
   "cell_type": "code",
   "execution_count": null,
   "id": "b0e39c32-3bb1-4f8e-a8c7-e589bef65355",
   "metadata": {},
   "outputs": [],
   "source": [
    "sc_long = s_curve_long(sc, 0.01)"
   ]
  },
  {
   "cell_type": "code",
   "execution_count": null,
   "id": "9c58a0d9-0c0f-4b4f-8e60-e817095cd196",
   "metadata": {},
   "outputs": [],
   "source": [
    "sc_long_min = s_curve_long(sc_min, 0.01)"
   ]
  },
  {
   "cell_type": "code",
   "execution_count": null,
   "id": "843413b8-c08b-498d-84c5-349fcdd0d8ba",
   "metadata": {},
   "outputs": [],
   "source": [
    "hv.Curve(sc_long, \"t\", \"p\") + hv.Curve(sc_long, \"t\", \"v\") + hv.Curve(sc_long, \"t\", \"a\") + hv.Curve(sc_long, \"t\", \"j\")"
   ]
  },
  {
   "cell_type": "code",
   "execution_count": null,
   "id": "74b75bf2-af72-4502-b3fc-f116a32d2e04",
   "metadata": {},
   "outputs": [],
   "source": [
    "hv.Curve(sc_long_min, \"t\", \"p\") + hv.Curve(sc_long_min, \"t\", \"v\") + hv.Curve(sc_long_min, \"t\", \"a\") + hv.Curve(sc_long_min, \"t\", \"j\")"
   ]
  },
  {
   "cell_type": "code",
   "execution_count": null,
   "id": "01793adc-c3d9-450e-8dbf-9f67ce8ee6e7",
   "metadata": {},
   "outputs": [],
   "source": [
    "start = np.array([150.0, 200.0]).reshape(1,2)\n",
    "end = np.array([0.0, 0.0]).reshape(1,2)"
   ]
  },
  {
   "cell_type": "code",
   "execution_count": null,
   "id": "f8a312c5-1854-457e-92d9-5faed3340562",
   "metadata": {},
   "outputs": [],
   "source": [
    "def solve_coasting_s_curve(start, end):\n",
    "    \"\"\"Solve for coasting s-curve and ignore joint constraints\"\"\"\n",
    "    \n",
    "    # x [0: positions, 1: velocity, 2: acceleration, 3: jerk]\n",
    "\n",
    "    dist = np.linalg.norm(start - end)\n",
    "    \n",
    "    assert dist >= sc[6][\"x\"][0], \"path too short\"\n",
    "    \n",
    "    out = copy.deepcopy(sc)\n",
    "    \n",
    "    # update coast stage (3) to fill up remaining time\n",
    "    out[3][\"dx\"][0] = dist - sc[6][\"x\"][0]\n",
    "    out[3][\"dt\"] = out[3][\"dx\"][0] / out[3][\"x\"][1]\n",
    "    for i in range(3,7):\n",
    "        out[i][\"x\"][0] = out[i-1][\"x\"][0] + out[i][\"dx\"][0]\n",
    "        out[i][\"t\"] = out[i-1][\"t\"] + out[i][\"dt\"]\n",
    "        \n",
    "    return out"
   ]
  },
  {
   "cell_type": "code",
   "execution_count": null,
   "id": "d56f3c72-445d-4340-8c88-eb98a0a14aaa",
   "metadata": {},
   "outputs": [],
   "source": [
    "out = s_curve_long(solve_coasting_s_curve(start, end), 0.1)"
   ]
  },
  {
   "cell_type": "code",
   "execution_count": null,
   "id": "951b28e5-5cbf-46d2-83fd-1b43f38e95c0",
   "metadata": {},
   "outputs": [],
   "source": [
    "hv.Curve(pd.DataFrame(out), \"t\", \"p\") + hv.Curve(pd.DataFrame(out), \"t\", \"v\")+ hv.Curve(pd.DataFrame(out), \"t\", \"a\")+ hv.Curve(pd.DataFrame(out), \"t\", \"j\")"
   ]
  },
  {
   "cell_type": "code",
   "execution_count": null,
   "id": "64e5e241-9689-41f2-962f-cf08e102b7cc",
   "metadata": {},
   "outputs": [],
   "source": [
    "start = np.array([9.0, 12.0]).reshape(1,2)\n",
    "end = np.array([0.0, 0.0]).reshape(1,2)"
   ]
  },
  {
   "cell_type": "code",
   "execution_count": null,
   "id": "b145c377-b4e2-485b-8313-3d22bfb06912",
   "metadata": {},
   "outputs": [],
   "source": [
    "p, t_v1, m_v, m_a, m_j = sympy.symbols(\"p t_v1 m_v m_a m_j\")"
   ]
  },
  {
   "cell_type": "code",
   "execution_count": null,
   "id": "7374e4d0-23ca-472f-973c-0ab466ee435f",
   "metadata": {},
   "outputs": [],
   "source": [
    "d = {\"m_a\": max_acceleration, \"m_j\": max_jerk, t_v1: sc[1][\"dt\"]}"
   ]
  },
  {
   "cell_type": "code",
   "execution_count": null,
   "id": "e5ec8de3-f2dd-4164-952c-e8ec574b27e4",
   "metadata": {},
   "outputs": [],
   "source": [
    "t_j0 = m_a / m_j"
   ]
  },
  {
   "cell_type": "code",
   "execution_count": null,
   "id": "6b6f6764-aaba-4fea-9cf2-e43b085dd462",
   "metadata": {},
   "outputs": [],
   "source": [
    "a_j0 = m_j * t_j0"
   ]
  },
  {
   "cell_type": "code",
   "execution_count": null,
   "id": "8f870e1f-bc07-4b9d-bdb6-e72820c62206",
   "metadata": {},
   "outputs": [],
   "source": [
    "v_j0 = m_j * t_j0 ** 2 / 2"
   ]
  },
  {
   "cell_type": "code",
   "execution_count": null,
   "id": "9c021a86-ff38-4408-8367-99d3ba939fa4",
   "metadata": {},
   "outputs": [],
   "source": [
    "p_j0 = m_j * t_j0 **3 / 6"
   ]
  },
  {
   "cell_type": "code",
   "execution_count": null,
   "id": "9aefdf40-d27e-42ba-b362-a84c16c87dbb",
   "metadata": {},
   "outputs": [],
   "source": [
    "np.array([p_j0.subs(d), v_j0.subs(d), a_j0.subs(d)]) - sc[0][\"x\"][:3]"
   ]
  },
  {
   "cell_type": "code",
   "execution_count": null,
   "id": "96c8ca0c-3616-4b1a-8dcb-01e400a7f6ce",
   "metadata": {},
   "outputs": [],
   "source": [
    "v_a1 = v_j0 + m_a * t_v1"
   ]
  },
  {
   "cell_type": "code",
   "execution_count": null,
   "id": "6653959f-4154-4f5e-a79b-aee32658d093",
   "metadata": {},
   "outputs": [],
   "source": [
    "p_a1 = p_j0 + v_j0 * t_v1 + m_a * t_v1**2 / 2"
   ]
  },
  {
   "cell_type": "code",
   "execution_count": null,
   "id": "d908d77c-488a-4276-b9b6-ed7f738a1585",
   "metadata": {},
   "outputs": [],
   "source": [
    "np.array([p_a1.subs(d), v_a1.subs(d)]) - sc[1][\"x\"][:2]"
   ]
  },
  {
   "cell_type": "code",
   "execution_count": null,
   "id": "417a29ab-6283-40fb-88e9-b3336b807aae",
   "metadata": {},
   "outputs": [],
   "source": [
    "a_j2 = a_j0 - m_j * t_j0"
   ]
  },
  {
   "cell_type": "code",
   "execution_count": null,
   "id": "cb9e0d99-6249-4dbd-b203-9b4a5929979f",
   "metadata": {},
   "outputs": [],
   "source": [
    "v_j2 = v_a1 + a_j0 * t_j0 - m_j * t_j0 ** 2 / 2"
   ]
  },
  {
   "cell_type": "code",
   "execution_count": null,
   "id": "36e77a60-d7c7-4b77-b7e3-ed31ba848e78",
   "metadata": {},
   "outputs": [],
   "source": [
    "p_j2 = p_a1 + v_a1 * t_j0 + a_j0 * t_j0 ** 2 / 2 - m_j * t_j0 ** 3 / 6"
   ]
  },
  {
   "cell_type": "code",
   "execution_count": null,
   "id": "f6c24daf-0a2d-4103-976e-320eb19ecb6f",
   "metadata": {},
   "outputs": [],
   "source": [
    "np.array([p_j2.subs(d), v_j2.subs(d), a_j2.subs(d)]) - sc[2][\"x\"][:3]"
   ]
  },
  {
   "cell_type": "code",
   "execution_count": null,
   "id": "e88b9219-a7be-4192-9cf0-5b8bed6eb669",
   "metadata": {},
   "outputs": [],
   "source": [
    "a_j4 = -m_j * t_j0"
   ]
  },
  {
   "cell_type": "code",
   "execution_count": null,
   "id": "03fbb6c5-8091-45c1-983b-f7ee28188383",
   "metadata": {},
   "outputs": [],
   "source": [
    "v_j4 = v_j2 - m_j * t_j0 ** 2 / 2"
   ]
  },
  {
   "cell_type": "code",
   "execution_count": null,
   "id": "1f320189-0e0d-4101-9928-807b8ff33d6f",
   "metadata": {},
   "outputs": [],
   "source": [
    "p_j4 = p_j2 + v_j2 * t_j0 - m_j * t_j0 ** 3 / 6"
   ]
  },
  {
   "cell_type": "code",
   "execution_count": null,
   "id": "a48bddaa-29a1-41be-807a-7820a2382305",
   "metadata": {},
   "outputs": [],
   "source": [
    "np.array([p_j4.subs(d), v_j4.subs(d), a_j4.subs(d)]) - sc[4][\"x\"][:3]"
   ]
  },
  {
   "cell_type": "code",
   "execution_count": null,
   "id": "58a0effe-17f2-4cc6-9552-efa95fa584b3",
   "metadata": {},
   "outputs": [],
   "source": [
    "v_a5 = v_j4 - m_a * t_v1"
   ]
  },
  {
   "cell_type": "code",
   "execution_count": null,
   "id": "703f71b2-29dc-456a-81f1-b95da6e6cfe3",
   "metadata": {},
   "outputs": [],
   "source": [
    "p_a5 = p_j4 +  v_j4 * t_v1 - m_a * t_v1 ** 2 / 2"
   ]
  },
  {
   "cell_type": "code",
   "execution_count": null,
   "id": "8ff7b02b-5e69-4d39-b357-b9b2afc0a806",
   "metadata": {},
   "outputs": [],
   "source": [
    "np.array([p_a5.subs(d), v_a5.subs(d)]) - sc[5][\"x\"][:2]"
   ]
  },
  {
   "cell_type": "code",
   "execution_count": null,
   "id": "f446aad3-baad-4e41-9752-94d2efc7d324",
   "metadata": {},
   "outputs": [],
   "source": [
    "a_j6 = -m_a + m_j * t_j0"
   ]
  },
  {
   "cell_type": "code",
   "execution_count": null,
   "id": "8408a095-e38e-427c-9273-8b1ae66e3c19",
   "metadata": {},
   "outputs": [],
   "source": [
    "v_j6 = v_a5 - m_a * t_j0 + m_j * t_j0 ** 2 / 2"
   ]
  },
  {
   "cell_type": "code",
   "execution_count": null,
   "id": "95270134-217f-4582-9dd8-0d840396fb49",
   "metadata": {},
   "outputs": [],
   "source": [
    "p_j6 = p_a5 + v_a5 * t_j0 - m_a * t_j0 ** 2 / 2 + m_j * t_j0 ** 3 / 6"
   ]
  },
  {
   "cell_type": "code",
   "execution_count": null,
   "id": "6c8f858a-b359-4521-add6-720e1d0ced51",
   "metadata": {},
   "outputs": [],
   "source": [
    "np.array([p_j6.subs(d), v_j6.subs(d), a_j6.subs(d)]) - sc[6][\"x\"][:3]"
   ]
  },
  {
   "cell_type": "code",
   "execution_count": null,
   "id": "b4a7634c-75b8-41a2-a03b-f5d81eb01cd6",
   "metadata": {},
   "outputs": [],
   "source": [
    "t_v1_s = sympy.solve(p_j6 - p, t_v1)[1]"
   ]
  },
  {
   "cell_type": "code",
   "execution_count": null,
   "id": "996d81c5-5dcf-4e07-8e7e-f408cae16141",
   "metadata": {},
   "outputs": [],
   "source": [
    "[v_j2.subs({\"t_v1\": t_v1_s})]"
   ]
  },
  {
   "cell_type": "code",
   "execution_count": null,
   "id": "f3637c4b-53a1-4f31-b89c-e37877bee36f",
   "metadata": {},
   "outputs": [],
   "source": [
    "def s_curve_mid(start, end, max_d):\n",
    "    # solve truncated max_acceleration curve\n",
    "    # max_d: [0: max_velocity, 1: max_acceleration, 2: max_jerk]\n",
    "    dist = np.linalg.norm(start - end)\n",
    "    \n",
    "    assert dist <= sc[6][\"x\"][0], \"Path too long\"\n",
    "    assert dist >= sc_min[6][\"x\"][0], \"Path too short\"\n",
    "    p = dist\n",
    "    m_a = max_d[1]\n",
    "    m_j = max_d[2]\n",
    "    mv_s = m_a**2/m_j + (-3*m_a**2 + np.sqrt(m_a*(m_a**3 + 4*m_j**2*p)))/(2*m_j)\n",
    "    ic(mv_s)\n",
    "    return s_curve([mv_s, max_d[1], max_d[2]])"
   ]
  },
  {
   "cell_type": "code",
   "execution_count": null,
   "id": "c8451caa-18fb-415a-b37a-34c2095a39b7",
   "metadata": {},
   "outputs": [],
   "source": [
    "sc_mid = s_curve_mid(start, end, [max_velocity, max_acceleration, max_jerk])"
   ]
  },
  {
   "cell_type": "code",
   "execution_count": null,
   "id": "c40f1f16-3508-43ba-9815-4610572c98cf",
   "metadata": {},
   "outputs": [],
   "source": [
    "sc_mid[6][\"x\"][0]"
   ]
  },
  {
   "cell_type": "code",
   "execution_count": null,
   "id": "2de020fe-1410-4753-8180-e5a8ea55fa8f",
   "metadata": {},
   "outputs": [],
   "source": [
    "out = s_curve_long(sc_mid, 0.01)"
   ]
  },
  {
   "cell_type": "code",
   "execution_count": null,
   "id": "8a4adef4-e52b-4e7b-90e5-d3b73c0ac83e",
   "metadata": {},
   "outputs": [],
   "source": [
    "hv.Curve(pd.DataFrame(out), \"t\", \"p\") + hv.Curve(pd.DataFrame(out), \"t\", \"v\")+ hv.Curve(pd.DataFrame(out), \"t\", \"a\")+ hv.Curve(pd.DataFrame(out), \"t\", \"j\")"
   ]
  },
  {
   "cell_type": "code",
   "execution_count": null,
   "id": "3c1f9532-4d9c-4fbc-83cd-de0aeaeb783b",
   "metadata": {},
   "outputs": [],
   "source": []
  },
  {
   "cell_type": "code",
   "execution_count": null,
   "id": "db92bd9d-e2a7-4925-aedb-3c672cc5fbf6",
   "metadata": {},
   "outputs": [],
   "source": []
  }
 ],
 "metadata": {
  "kernelspec": {
   "display_name": "Python 3 (ipykernel)",
   "language": "python",
   "name": "python3"
  },
  "language_info": {
   "codemirror_mode": {
    "name": "ipython",
    "version": 3
   },
   "file_extension": ".py",
   "mimetype": "text/x-python",
   "name": "python",
   "nbconvert_exporter": "python",
   "pygments_lexer": "ipython3",
   "version": "3.11.8"
  }
 },
 "nbformat": 4,
 "nbformat_minor": 5
}
