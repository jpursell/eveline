{
 "cells": [
  {
   "cell_type": "markdown",
   "id": "2cc0685c-c21f-432f-8b1f-fda0faa42d89",
   "metadata": {},
   "source": [
    "https://youtu.be/0ZqeBEa_MWo?si=euGFINmBNnY8qPbn&t=149"
   ]
  },
  {
   "cell_type": "code",
   "execution_count": null,
   "id": "282ca4df-8ada-4212-a972-87f9687593d6",
   "metadata": {},
   "outputs": [],
   "source": [
    "import copy\n",
    "\n",
    "import holoviews as hv\n",
    "import numpy as np\n",
    "import pandas as pd\n",
    "import sympy\n",
    "from icecream import ic"
   ]
  },
  {
   "cell_type": "code",
   "execution_count": null,
   "id": "063942bb-021c-44a7-9d85-64ec0a9e7e77",
   "metadata": {},
   "outputs": [],
   "source": [
    "hv.extension(\"bokeh\")"
   ]
  },
  {
   "cell_type": "code",
   "execution_count": null,
   "id": "dd0fbea7-875c-4dad-8e20-7d6511441e0f",
   "metadata": {},
   "outputs": [],
   "source": [
    "spool_radius = 5.75\n",
    "gear_ratio = (59.0 / 17.0) ** 2\n",
    "STEP_DIVISION = 1\n",
    "motor_steps_per_revolution = 100 * STEP_DIVISION\n",
    "spool_circumfrence = spool_radius * 2 * np.pi\n",
    "ic(spool_circumfrence)\n",
    "steps_per_mm = motor_steps_per_revolution * gear_ratio / spool_circumfrence\n",
    "ic(steps_per_mm)\n",
    "max_rpm = 100.0\n",
    "max_revs_per_second = max_rpm / 60.0\n",
    "max_steps_per_second = max_revs_per_second * motor_steps_per_revolution\n",
    "ic(max_steps_per_second)\n",
    "max_velocity = max_steps_per_second / steps_per_mm\n",
    "ic(max_velocity)\n",
    "max_acceleration = 1.0\n",
    "max_jerk = 1.0"
   ]
  },
  {
   "cell_type": "code",
   "execution_count": null,
   "id": "793047a9-37f4-4b97-86d4-941f3dcf637f",
   "metadata": {},
   "outputs": [],
   "source": [
    "def s_curve(max_d):\n",
    "    \"\"\"Solve minimal s curve that hits parameters\n",
    "\n",
    "    max_d: [0: max_velocity, 1: max_acceleration, 2: max_jerk]\n",
    "    \"\"\"\n",
    "    nd = len(max_d)\n",
    "    assert nd == 3\n",
    "    ns = 7\n",
    "    # x [0: positions, 1: velocity, 2: acceleration, 3: jerk]\n",
    "    sc = [{\"t\":0.0, \"dt\": 0.0, \"x\": np.zeros(nd + 1), \"dx\": np.zeros(nd + 1)} for i in range(ns)]\n",
    "    jerk_stage_sign = [1, 0, -1, 0, -1, 0, 1]\n",
    "    coast_stage = 3\n",
    "\n",
    "    dt_jerk = min(max_d[1] / max_d[2], np.sqrt(max_d[0] * 2 / max_d[2]))\n",
    "    # dv_jerk = 1 / 2 * max_d[2] * dt_jerk ** 2\n",
    "    # dt_acceleration = (max_d[0] - dv_jerk * 2) / max_d[1]\n",
    "    dt_acceleration = (-max_d[2] * dt_jerk ** 2 + max_d[0]) / max_d[1]\n",
    "\n",
    "    for(i, dt) in enumerate([dt_jerk, dt_acceleration, dt_jerk, 0.0, dt_jerk, dt_acceleration, dt_jerk]):\n",
    "        sc[i][\"dt\"] = dt\n",
    "        if i == 0:\n",
    "            t_prev = 0\n",
    "        else:\n",
    "            t_prev = sc[i - 1][\"t\"]\n",
    "        sc[i][\"t\"] = t_prev + sc[i][\"dt\"]\n",
    "    \n",
    "    for i in range(ns):\n",
    "        if i == 0:\n",
    "            x_prev = [0.0 for _ in range(nd + 1)]\n",
    "        else:\n",
    "            x_prev = sc[i - 1][\"x\"]\n",
    "        # set jerk\n",
    "        sc[i][\"x\"][3] = max_d[2] * jerk_stage_sign[i]\n",
    "        sc[i][\"dx\"][3] = sc[i][\"x\"][3] - x_prev[3]\n",
    "        # set d_acceleration\n",
    "        sc[i][\"dx\"][2] = sc[i][\"x\"][3] * sc[i][\"dt\"]\n",
    "        # set d_velocity\n",
    "        sc[i][\"dx\"][1] = x_prev[2] * sc[i][\"dt\"] + 1 / 2 * sc[i][\"x\"][3] * sc[i][\"dt\"] ** 2\n",
    "        # set d_position\n",
    "        sc[i][\"dx\"][0] = x_prev[1] * sc[i][\"dt\"] + 1 / 2 * x_prev[2] * sc[i][\"dt\"] ** 2 + 1 / 6 * sc[i][\"x\"][3] * sc[i][\"dt\"] ** 3\n",
    "        # set x\n",
    "        sc[i][\"x\"] = x_prev + sc[i][\"dx\"]\n",
    "    return sc\n",
    "    # todo: use this to generate both full curve and minimal, 4 stage curve\n",
    "    # make sanity check function"
   ]
  },
  {
   "cell_type": "code",
   "execution_count": null,
   "id": "0e836e06-3aca-485e-b7dd-7886e1957491",
   "metadata": {},
   "outputs": [],
   "source": [
    "def s_curve_long(sc, dt):\n",
    "    # x [0: positions, 1: velocity, 2: acceleration, 3: jerk]\n",
    "    nx = len(sc[0][\"x\"])\n",
    "    state = {\"t\": 0.0, \"x\": np.zeros(nx), \"p\": 0.0, \"v\": 0.0, \"a\": 0.0, \"j\": 0.0}\n",
    "    curve = [state.copy()]\n",
    "    for i in range(len(sc)):\n",
    "        if i > 0:\n",
    "            state[\"x\"] = sc[i - 1][\"x\"].copy()\n",
    "        while state[\"t\"] < sc[i][\"t\"]:\n",
    "            state[\"t\"] += dt\n",
    "            state[\"x\"][3] = sc[i][\"x\"][3]\n",
    "            state[\"x\"][2] += state[\"x\"][3] * dt\n",
    "            state[\"x\"][1] += state[\"x\"][2] * dt\n",
    "            state[\"x\"][0] += state[\"x\"][1] * dt\n",
    "            state[\"p\"] = state[\"x\"][0]\n",
    "            state[\"v\"] = state[\"x\"][1]\n",
    "            state[\"a\"] = state[\"x\"][2]\n",
    "            state[\"j\"] = state[\"x\"][3]\n",
    "            curve.append(state.copy())\n",
    "        error = np.abs(state[\"x\"][0] - sc[i][\"x\"][0])\n",
    "        assert error / dt < 10\n",
    "    \n",
    "    return curve"
   ]
  },
  {
   "cell_type": "code",
   "execution_count": null,
   "id": "34139827-f392-4ddf-be7f-a16f2933d23d",
   "metadata": {},
   "outputs": [],
   "source": [
    "sc = s_curve([max_velocity, max_acceleration, max_jerk])\n",
    "out = s_curve_long(sc, 0.0001)"
   ]
  },
  {
   "cell_type": "markdown",
   "id": "12d5a35a-46d9-4471-9668-9b5ed901db68",
   "metadata": {},
   "source": [
    "# Full S Curve\n",
    "\n",
    "Solve full s curve with all stages but no coasting. Any amount longer and we need to coast"
   ]
  },
  {
   "cell_type": "code",
   "execution_count": null,
   "id": "eba8e47e-0127-44fd-9768-39261e89682e",
   "metadata": {},
   "outputs": [],
   "source": [
    "\n",
    "ic(sc[2])\n",
    "ic(max_velocity)\n",
    "ic(sc[6])"
   ]
  },
  {
   "cell_type": "markdown",
   "id": "f82b3a25-ef60-40ef-8735-5bacc7e2037a",
   "metadata": {},
   "source": [
    "# Full S-Curve Symbolic TODO finish this to get stages times in a clean way"
   ]
  },
  {
   "cell_type": "code",
   "execution_count": null,
   "id": "f984cc4d-f723-4f3f-8d8b-9d8e1df7aeb8",
   "metadata": {},
   "outputs": [],
   "source": [
    "p, t_j0, t_v1, t_c3, m_v, m_a, m_j = sympy.symbols(\"p t_j0 t_v1 t_c3 m_v m_a m_j\")"
   ]
  },
  {
   "cell_type": "code",
   "execution_count": null,
   "id": "47c1e71c-e35a-4a75-8203-db5463d28a6f",
   "metadata": {},
   "outputs": [],
   "source": [
    "d = {\"m_a\": max_acceleration, \"m_j\": max_jerk}"
   ]
  },
  {
   "cell_type": "code",
   "execution_count": null,
   "id": "a4301e28-34f6-44d2-a3a6-c63714779eb0",
   "metadata": {},
   "outputs": [],
   "source": [
    "#t_j0 = m_a / m_j"
   ]
  },
  {
   "cell_type": "code",
   "execution_count": null,
   "id": "874f59d4-9e7d-456a-bfac-1925d33dacc3",
   "metadata": {},
   "outputs": [],
   "source": [
    "a_j0 = m_j * t_j0"
   ]
  },
  {
   "cell_type": "code",
   "execution_count": null,
   "id": "560dbb3b-4da0-4182-a84a-f0de6e571545",
   "metadata": {},
   "outputs": [],
   "source": [
    "v_j0 = m_j * t_j0 ** 2 / 2"
   ]
  },
  {
   "cell_type": "code",
   "execution_count": null,
   "id": "4184fb99-30c1-4c6a-96d2-0972d131455c",
   "metadata": {},
   "outputs": [],
   "source": [
    "p_j0 = m_j * t_j0 **3 / 6"
   ]
  },
  {
   "cell_type": "code",
   "execution_count": null,
   "id": "cf62a6cf-09b0-4a27-aa25-98231b0aef78",
   "metadata": {},
   "outputs": [],
   "source": [
    "v_a1 = v_j0 + m_a * t_v1"
   ]
  },
  {
   "cell_type": "code",
   "execution_count": null,
   "id": "690e2d5f-a3e4-4752-8783-0cf6f9b389e0",
   "metadata": {},
   "outputs": [],
   "source": [
    "p_a1 = p_j0 + v_j0 * t_v1 + m_a * t_v1**2 / 2"
   ]
  },
  {
   "cell_type": "code",
   "execution_count": null,
   "id": "a2813371-7d7a-445a-9540-94bbd09bf9bf",
   "metadata": {},
   "outputs": [],
   "source": [
    "a_j2 = a_j0 - m_j * t_j0"
   ]
  },
  {
   "cell_type": "code",
   "execution_count": null,
   "id": "954f0444-2502-4862-a4db-c69e910b5fac",
   "metadata": {},
   "outputs": [],
   "source": [
    "v_j2 = v_a1 + a_j0 * t_j0 - m_j * t_j0 ** 2 / 2"
   ]
  },
  {
   "cell_type": "code",
   "execution_count": null,
   "id": "ac2484de-644c-4e1e-84a5-9563150279dd",
   "metadata": {},
   "outputs": [],
   "source": [
    "sympy.solve(v_j2 - m_v, t_v1)"
   ]
  },
  {
   "cell_type": "markdown",
   "id": "2fdc9151-4e26-4c51-b6a7-bc5c3534d10c",
   "metadata": {},
   "source": [
    "`t_v1 = (-m_j*t_j0**2 + m_v)/m_a` for max_velocity at coast"
   ]
  },
  {
   "cell_type": "code",
   "execution_count": null,
   "id": "6da7b6aa-eada-409e-913c-0d30c7bf94a0",
   "metadata": {},
   "outputs": [],
   "source": [
    "v_j2.subs({\"t_v1\": (-m_j*t_j0**2 + m_v)/m_a}).subs({\"m_a\": max_acceleration, \"m_j\": max_jerk,  \"m_v\": max_velocity}) - max_velocity"
   ]
  },
  {
   "cell_type": "code",
   "execution_count": null,
   "id": "54defd4c-bb41-486c-aa6e-e2cd3d778e2d",
   "metadata": {},
   "outputs": [],
   "source": [
    "p_j2 = p_a1 + v_a1 * t_j0 + a_j0 * t_j0 ** 2 / 2 - m_j * t_j0 ** 3 / 6"
   ]
  },
  {
   "cell_type": "code",
   "execution_count": null,
   "id": "d36ba1af-ba62-43a5-8a4e-47fcac4b66fe",
   "metadata": {},
   "outputs": [],
   "source": [
    "v_c3 = v_j2"
   ]
  },
  {
   "cell_type": "code",
   "execution_count": null,
   "id": "31d6bfcf-d79e-4232-8dc4-81bc478b1584",
   "metadata": {},
   "outputs": [],
   "source": [
    "p_c3 = p_j2 + v_j2 * t_c3"
   ]
  },
  {
   "cell_type": "code",
   "execution_count": null,
   "id": "5c1d5807-2846-4271-a2fb-cc94c7744b02",
   "metadata": {},
   "outputs": [],
   "source": [
    "a_j4 = -m_j * t_j0"
   ]
  },
  {
   "cell_type": "code",
   "execution_count": null,
   "id": "5768d6d0-78ec-4f9f-8597-44d88de0047d",
   "metadata": {},
   "outputs": [],
   "source": [
    "v_j4 = v_j2 - m_j * t_j0 ** 2 / 2"
   ]
  },
  {
   "cell_type": "code",
   "execution_count": null,
   "id": "8e7d5183-9a75-4986-b58d-433de2a0b4e4",
   "metadata": {},
   "outputs": [],
   "source": [
    "p_j4 = p_c3 + v_j2 * t_j0 - m_j * t_j0 ** 3 / 6"
   ]
  },
  {
   "cell_type": "code",
   "execution_count": null,
   "id": "607c12a2-c19a-42ff-9350-67812b73d81e",
   "metadata": {},
   "outputs": [],
   "source": [
    "v_a5 = v_j4 - m_a * t_v1"
   ]
  },
  {
   "cell_type": "code",
   "execution_count": null,
   "id": "dda9dd45-23af-4dd4-8bc9-f3fbb2f57302",
   "metadata": {},
   "outputs": [],
   "source": [
    "p_a5 = p_j4 +  v_j4 * t_v1 - m_a * t_v1 ** 2 / 2"
   ]
  },
  {
   "cell_type": "code",
   "execution_count": null,
   "id": "a4035f1a-f40b-4f88-a419-ee64c64cae66",
   "metadata": {},
   "outputs": [],
   "source": [
    "a_j6 = -m_a + m_j * t_j0"
   ]
  },
  {
   "cell_type": "code",
   "execution_count": null,
   "id": "1ccccd71-2378-4a98-8710-fd523d6f1dd1",
   "metadata": {},
   "outputs": [],
   "source": [
    "v_j6 = v_a5 - m_a * t_j0 + m_j * t_j0 ** 2 / 2"
   ]
  },
  {
   "cell_type": "code",
   "execution_count": null,
   "id": "8de73358-7acc-4087-8f3c-25c7cdd60997",
   "metadata": {},
   "outputs": [],
   "source": [
    "p_j6 = p_a5 + v_a5 * t_j0 - m_a * t_j0 ** 2 / 2 + m_j * t_j0 ** 3 / 6"
   ]
  },
  {
   "cell_type": "code",
   "execution_count": null,
   "id": "edad1702-818f-41f0-89b3-f18eb10d9cea",
   "metadata": {},
   "outputs": [],
   "source": [
    "[p_j6]"
   ]
  },
  {
   "cell_type": "code",
   "execution_count": null,
   "id": "bcdff96d-bd81-43c5-b516-cd9e174f9fe0",
   "metadata": {},
   "outputs": [],
   "source": [
    "p_j6.subs({\"t_c3\": 0, \"t_j0\": m_a / m_j, \"t_v1\": -m_a/m_j + m_v/m_a}).subs({\"m_a\": max_acceleration, \"m_j\": max_jerk,  \"m_v\": max_velocity}) - sc[6][\"x\"][0]"
   ]
  },
  {
   "cell_type": "code",
   "execution_count": null,
   "id": "f91b299d-83a4-4266-9aa2-0604295094f9",
   "metadata": {},
   "outputs": [],
   "source": [
    "sympy.solve(p_j6 - p, t_c3)"
   ]
  },
  {
   "cell_type": "markdown",
   "id": "9d0130cf-5e33-44e9-8785-e27e02c62981",
   "metadata": {},
   "source": [
    "# Minimual S Curve\n",
    "\n",
    "Solve longest all-jerk s curve with no max_acceleration portion. Any longer and we have a truncated max_acceleration stage. Any shorter and we have a truncated max_jerk stages."
   ]
  },
  {
   "cell_type": "code",
   "execution_count": null,
   "id": "0ff08422-87bc-41f5-927a-736d45d22d08",
   "metadata": {},
   "outputs": [],
   "source": [
    "sc_min = s_curve([sc[0][\"x\"][1] * 2, max_acceleration, max_jerk])"
   ]
  },
  {
   "cell_type": "code",
   "execution_count": null,
   "id": "b0e39c32-3bb1-4f8e-a8c7-e589bef65355",
   "metadata": {},
   "outputs": [],
   "source": [
    "sc_long = s_curve_long(sc, 0.01)"
   ]
  },
  {
   "cell_type": "code",
   "execution_count": null,
   "id": "9c58a0d9-0c0f-4b4f-8e60-e817095cd196",
   "metadata": {},
   "outputs": [],
   "source": [
    "sc_long_min = s_curve_long(sc_min, 0.001)"
   ]
  },
  {
   "cell_type": "code",
   "execution_count": null,
   "id": "843413b8-c08b-498d-84c5-349fcdd0d8ba",
   "metadata": {},
   "outputs": [],
   "source": [
    "hv.Curve(sc_long, \"t\", \"p\") + hv.Curve(sc_long, \"t\", \"v\") + hv.Curve(sc_long, \"t\", \"a\") + hv.Curve(sc_long, \"t\", \"j\")"
   ]
  },
  {
   "cell_type": "code",
   "execution_count": null,
   "id": "74b75bf2-af72-4502-b3fc-f116a32d2e04",
   "metadata": {},
   "outputs": [],
   "source": [
    "hv.Curve(sc_long_min, \"t\", \"p\") + hv.Curve(sc_long_min, \"t\", \"v\") + hv.Curve(sc_long_min, \"t\", \"a\") + hv.Curve(sc_long_min, \"t\", \"j\")"
   ]
  },
  {
   "cell_type": "code",
   "execution_count": null,
   "id": "01793adc-c3d9-450e-8dbf-9f67ce8ee6e7",
   "metadata": {},
   "outputs": [],
   "source": [
    "start = np.array([150.0, 200.0]).reshape(1,2)\n",
    "end = np.array([0.0, 0.0]).reshape(1,2)"
   ]
  },
  {
   "cell_type": "code",
   "execution_count": null,
   "id": "f8a312c5-1854-457e-92d9-5faed3340562",
   "metadata": {},
   "outputs": [],
   "source": [
    "def solve_coasting_s_curve(start, end):\n",
    "    \"\"\"Solve for coasting s-curve and ignore joint constraints\"\"\"\n",
    "    \n",
    "    # x [0: positions, 1: velocity, 2: acceleration, 3: jerk]\n",
    "\n",
    "    dist = np.linalg.norm(start - end)\n",
    "    \n",
    "    assert dist >= sc[6][\"x\"][0], \"path too short\"\n",
    "    \n",
    "    out = copy.deepcopy(sc)\n",
    "    \n",
    "    # update coast stage (3) to fill up remaining time\n",
    "    out[3][\"dx\"][0] = dist - sc[6][\"x\"][0]\n",
    "    out[3][\"dt\"] = out[3][\"dx\"][0] / out[3][\"x\"][1]\n",
    "    for i in range(3,7):\n",
    "        out[i][\"x\"][0] = out[i-1][\"x\"][0] + out[i][\"dx\"][0]\n",
    "        out[i][\"t\"] = out[i-1][\"t\"] + out[i][\"dt\"]\n",
    "        \n",
    "    return out"
   ]
  },
  {
   "cell_type": "code",
   "execution_count": null,
   "id": "d56f3c72-445d-4340-8c88-eb98a0a14aaa",
   "metadata": {},
   "outputs": [],
   "source": [
    "out = s_curve_long(solve_coasting_s_curve(start, end), 0.1)"
   ]
  },
  {
   "cell_type": "code",
   "execution_count": null,
   "id": "951b28e5-5cbf-46d2-83fd-1b43f38e95c0",
   "metadata": {},
   "outputs": [],
   "source": [
    "hv.Curve(pd.DataFrame(out), \"t\", \"p\") + hv.Curve(pd.DataFrame(out), \"t\", \"v\")+ hv.Curve(pd.DataFrame(out), \"t\", \"a\")+ hv.Curve(pd.DataFrame(out), \"t\", \"j\")"
   ]
  },
  {
   "cell_type": "markdown",
   "id": "fed7e47a-28fd-4208-b73c-bc5ef77f79a6",
   "metadata": {},
   "source": [
    "# Mid a.k.a. Truncated Max Acceleration Curve"
   ]
  },
  {
   "cell_type": "code",
   "execution_count": null,
   "id": "64e5e241-9689-41f2-962f-cf08e102b7cc",
   "metadata": {},
   "outputs": [],
   "source": [
    "start = np.array([9.0, 12.0]).reshape(1,2)\n",
    "end = np.array([0.0, 0.0]).reshape(1,2)"
   ]
  },
  {
   "cell_type": "code",
   "execution_count": null,
   "id": "b145c377-b4e2-485b-8313-3d22bfb06912",
   "metadata": {},
   "outputs": [],
   "source": [
    "p, t_j0, t_v1, m_v, m_a, m_j = sympy.symbols(\"p t_j0 t_v1 m_v m_a m_j\")"
   ]
  },
  {
   "cell_type": "code",
   "execution_count": null,
   "id": "7374e4d0-23ca-472f-973c-0ab466ee435f",
   "metadata": {},
   "outputs": [],
   "source": [
    "d = {\"m_a\": max_acceleration, \"m_j\": max_jerk, t_v1: sc[1][\"dt\"], t_j0: sc[0][\"dt\"]}"
   ]
  },
  {
   "cell_type": "code",
   "execution_count": null,
   "id": "e5ec8de3-f2dd-4164-952c-e8ec574b27e4",
   "metadata": {},
   "outputs": [],
   "source": [
    "# t_j0 = m_a / m_j"
   ]
  },
  {
   "cell_type": "code",
   "execution_count": null,
   "id": "6b6f6764-aaba-4fea-9cf2-e43b085dd462",
   "metadata": {},
   "outputs": [],
   "source": [
    "a_j0 = m_j * t_j0"
   ]
  },
  {
   "cell_type": "code",
   "execution_count": null,
   "id": "8f870e1f-bc07-4b9d-bdb6-e72820c62206",
   "metadata": {},
   "outputs": [],
   "source": [
    "v_j0 = m_j * t_j0 ** 2 / 2"
   ]
  },
  {
   "cell_type": "code",
   "execution_count": null,
   "id": "9c021a86-ff38-4408-8367-99d3ba939fa4",
   "metadata": {},
   "outputs": [],
   "source": [
    "p_j0 = m_j * t_j0 **3 / 6"
   ]
  },
  {
   "cell_type": "code",
   "execution_count": null,
   "id": "9aefdf40-d27e-42ba-b362-a84c16c87dbb",
   "metadata": {},
   "outputs": [],
   "source": [
    "np.array([p_j0.subs(d), v_j0.subs(d), a_j0.subs(d)]) - sc[0][\"x\"][:3]"
   ]
  },
  {
   "cell_type": "code",
   "execution_count": null,
   "id": "96c8ca0c-3616-4b1a-8dcb-01e400a7f6ce",
   "metadata": {},
   "outputs": [],
   "source": [
    "v_a1 = v_j0 + m_a * t_v1"
   ]
  },
  {
   "cell_type": "code",
   "execution_count": null,
   "id": "6653959f-4154-4f5e-a79b-aee32658d093",
   "metadata": {},
   "outputs": [],
   "source": [
    "p_a1 = p_j0 + v_j0 * t_v1 + m_a * t_v1**2 / 2"
   ]
  },
  {
   "cell_type": "code",
   "execution_count": null,
   "id": "d908d77c-488a-4276-b9b6-ed7f738a1585",
   "metadata": {},
   "outputs": [],
   "source": [
    "np.array([p_a1.subs(d), v_a1.subs(d)]) - sc[1][\"x\"][:2]"
   ]
  },
  {
   "cell_type": "code",
   "execution_count": null,
   "id": "417a29ab-6283-40fb-88e9-b3336b807aae",
   "metadata": {},
   "outputs": [],
   "source": [
    "a_j2 = a_j0 - m_j * t_j0"
   ]
  },
  {
   "cell_type": "code",
   "execution_count": null,
   "id": "cb9e0d99-6249-4dbd-b203-9b4a5929979f",
   "metadata": {},
   "outputs": [],
   "source": [
    "v_j2 = v_a1 + a_j0 * t_j0 - m_j * t_j0 ** 2 / 2"
   ]
  },
  {
   "cell_type": "code",
   "execution_count": null,
   "id": "36e77a60-d7c7-4b77-b7e3-ed31ba848e78",
   "metadata": {},
   "outputs": [],
   "source": [
    "p_j2 = p_a1 + v_a1 * t_j0 + a_j0 * t_j0 ** 2 / 2 - m_j * t_j0 ** 3 / 6"
   ]
  },
  {
   "cell_type": "code",
   "execution_count": null,
   "id": "f6c24daf-0a2d-4103-976e-320eb19ecb6f",
   "metadata": {},
   "outputs": [],
   "source": [
    "np.array([p_j2.subs(d), v_j2.subs(d), a_j2.subs(d)]) - sc[2][\"x\"][:3]"
   ]
  },
  {
   "cell_type": "code",
   "execution_count": null,
   "id": "e88b9219-a7be-4192-9cf0-5b8bed6eb669",
   "metadata": {},
   "outputs": [],
   "source": [
    "a_j4 = -m_j * t_j0"
   ]
  },
  {
   "cell_type": "code",
   "execution_count": null,
   "id": "03fbb6c5-8091-45c1-983b-f7ee28188383",
   "metadata": {},
   "outputs": [],
   "source": [
    "v_j4 = v_j2 - m_j * t_j0 ** 2 / 2"
   ]
  },
  {
   "cell_type": "code",
   "execution_count": null,
   "id": "1f320189-0e0d-4101-9928-807b8ff33d6f",
   "metadata": {},
   "outputs": [],
   "source": [
    "p_j4 = p_j2 + v_j2 * t_j0 - m_j * t_j0 ** 3 / 6"
   ]
  },
  {
   "cell_type": "code",
   "execution_count": null,
   "id": "a48bddaa-29a1-41be-807a-7820a2382305",
   "metadata": {},
   "outputs": [],
   "source": [
    "np.array([p_j4.subs(d), v_j4.subs(d), a_j4.subs(d)]) - sc[4][\"x\"][:3]"
   ]
  },
  {
   "cell_type": "code",
   "execution_count": null,
   "id": "58a0effe-17f2-4cc6-9552-efa95fa584b3",
   "metadata": {},
   "outputs": [],
   "source": [
    "v_a5 = v_j4 - m_a * t_v1"
   ]
  },
  {
   "cell_type": "code",
   "execution_count": null,
   "id": "703f71b2-29dc-456a-81f1-b95da6e6cfe3",
   "metadata": {},
   "outputs": [],
   "source": [
    "p_a5 = p_j4 +  v_j4 * t_v1 - m_a * t_v1 ** 2 / 2"
   ]
  },
  {
   "cell_type": "code",
   "execution_count": null,
   "id": "8ff7b02b-5e69-4d39-b357-b9b2afc0a806",
   "metadata": {},
   "outputs": [],
   "source": [
    "np.array([p_a5.subs(d), v_a5.subs(d)]) - sc[5][\"x\"][:2]"
   ]
  },
  {
   "cell_type": "code",
   "execution_count": null,
   "id": "f446aad3-baad-4e41-9752-94d2efc7d324",
   "metadata": {},
   "outputs": [],
   "source": [
    "a_j6 = -m_a + m_j * t_j0"
   ]
  },
  {
   "cell_type": "code",
   "execution_count": null,
   "id": "8408a095-e38e-427c-9273-8b1ae66e3c19",
   "metadata": {},
   "outputs": [],
   "source": [
    "v_j6 = v_a5 - m_a * t_j0 + m_j * t_j0 ** 2 / 2"
   ]
  },
  {
   "cell_type": "code",
   "execution_count": null,
   "id": "95270134-217f-4582-9dd8-0d840396fb49",
   "metadata": {},
   "outputs": [],
   "source": [
    "p_j6 = p_a5 + v_a5 * t_j0 - m_a * t_j0 ** 2 / 2 + m_j * t_j0 ** 3 / 6"
   ]
  },
  {
   "cell_type": "code",
   "execution_count": null,
   "id": "3c9d48cc-675a-4022-8c55-21dc768baa82",
   "metadata": {},
   "outputs": [],
   "source": [
    "[p_j6.subs({\"t_v1\": 0})]"
   ]
  },
  {
   "cell_type": "markdown",
   "id": "8d6ec823-c418-482f-83c4-35703003ba0c",
   "metadata": {},
   "source": [
    "The minimal length of a truncated max_acceleration (mid) s-curve is\n",
    "\n",
    "`-m_a*t_j0**2/2 + 5*m_j*t_j0**3/2`"
   ]
  },
  {
   "cell_type": "code",
   "execution_count": null,
   "id": "5b3d1912-3719-4090-905a-e7aeed67d045",
   "metadata": {},
   "outputs": [],
   "source": [
    "sc_min[6][\"x\"][0] - (-m_a*t_j0**2/2 + 5*m_j*t_j0**3/2).subs(d)"
   ]
  },
  {
   "cell_type": "code",
   "execution_count": null,
   "id": "6c8f858a-b359-4521-add6-720e1d0ced51",
   "metadata": {},
   "outputs": [],
   "source": [
    "np.array([p_j6.subs(d), v_j6.subs(d), a_j6.subs(d)]) - sc[6][\"x\"][:3]"
   ]
  },
  {
   "cell_type": "code",
   "execution_count": null,
   "id": "b4a7634c-75b8-41a2-a03b-f5d81eb01cd6",
   "metadata": {},
   "outputs": [],
   "source": [
    "t_v1_s = sympy.solve(p_j6 - p, t_v1)[1]"
   ]
  },
  {
   "cell_type": "code",
   "execution_count": null,
   "id": "c0bdb2ff-8926-444c-97a1-4024ffcf9e09",
   "metadata": {},
   "outputs": [],
   "source": [
    "t_v1_s"
   ]
  },
  {
   "cell_type": "code",
   "execution_count": null,
   "id": "996d81c5-5dcf-4e07-8e7e-f408cae16141",
   "metadata": {},
   "outputs": [],
   "source": [
    "[v_j2.subs({\"t_v1\": t_v1_s})]"
   ]
  },
  {
   "cell_type": "code",
   "execution_count": null,
   "id": "f3637c4b-53a1-4f31-b89c-e37877bee36f",
   "metadata": {},
   "outputs": [],
   "source": [
    "def s_curve_mid(start, end, max_d):\n",
    "    # solve truncated max_acceleration curve\n",
    "    # max_d: [0: max_velocity, 1: max_acceleration, 2: max_jerk]\n",
    "    dist = np.linalg.norm(start - end)\n",
    "    \n",
    "    assert dist <= sc[6][\"x\"][0], \"Path too long\"\n",
    "    assert dist >= sc_min[6][\"x\"][0], \"Path too short\"\n",
    "    p = dist\n",
    "    m_a = max_d[1]\n",
    "    m_j = max_d[2]\n",
    "    mv_s = m_a**2/m_j + (-3*m_a**2 + np.sqrt(m_a*(m_a**3 + 4*m_j**2*p)))/(2*m_j)\n",
    "    ic(mv_s)\n",
    "    return s_curve([mv_s, max_d[1], max_d[2]])"
   ]
  },
  {
   "cell_type": "code",
   "execution_count": null,
   "id": "c8451caa-18fb-415a-b37a-34c2095a39b7",
   "metadata": {},
   "outputs": [],
   "source": [
    "sc_mid = s_curve_mid(start, end, [max_velocity, max_acceleration, max_jerk])"
   ]
  },
  {
   "cell_type": "code",
   "execution_count": null,
   "id": "c40f1f16-3508-43ba-9815-4610572c98cf",
   "metadata": {},
   "outputs": [],
   "source": [
    "sc_mid[6][\"x\"][0]"
   ]
  },
  {
   "cell_type": "code",
   "execution_count": null,
   "id": "2de020fe-1410-4753-8180-e5a8ea55fa8f",
   "metadata": {},
   "outputs": [],
   "source": [
    "out = s_curve_long(sc_mid, 0.01)"
   ]
  },
  {
   "cell_type": "code",
   "execution_count": null,
   "id": "8a4adef4-e52b-4e7b-90e5-d3b73c0ac83e",
   "metadata": {},
   "outputs": [],
   "source": [
    "hv.Curve(pd.DataFrame(out), \"t\", \"p\") + hv.Curve(pd.DataFrame(out), \"t\", \"v\")+ hv.Curve(pd.DataFrame(out), \"t\", \"a\")+ hv.Curve(pd.DataFrame(out), \"t\", \"j\")"
   ]
  },
  {
   "cell_type": "code",
   "execution_count": null,
   "id": "3c1f9532-4d9c-4fbc-83cd-de0aeaeb783b",
   "metadata": {},
   "outputs": [],
   "source": []
  },
  {
   "cell_type": "code",
   "execution_count": null,
   "id": "db92bd9d-e2a7-4925-aedb-3c672cc5fbf6",
   "metadata": {},
   "outputs": [],
   "source": []
  },
  {
   "cell_type": "markdown",
   "id": "5c1466fb-f490-4317-9962-656a3bf2cbbc",
   "metadata": {},
   "source": [
    "# Short a.k.a. Truncated Max Jerk Curve"
   ]
  },
  {
   "cell_type": "code",
   "execution_count": null,
   "id": "25a1a99a-57c7-43f3-b870-a3240d69bc22",
   "metadata": {},
   "outputs": [],
   "source": [
    "start = np.array([0.6, 0.8]).reshape(1,2)\n",
    "end = np.array([0.0, 0.0]).reshape(1,2)"
   ]
  },
  {
   "cell_type": "code",
   "execution_count": null,
   "id": "04ac2e69-182e-4f2a-8ec1-9153da293cd8",
   "metadata": {},
   "outputs": [],
   "source": [
    "p, t_j0, m_v, m_a, m_j = sympy.symbols(\"p t_j0 m_v m_a m_j\")"
   ]
  },
  {
   "cell_type": "code",
   "execution_count": null,
   "id": "c773a3d3-ef69-4a32-b46c-433b7098cb1f",
   "metadata": {},
   "outputs": [],
   "source": [
    "d = {\"m_a\": max_acceleration, \"m_j\": max_jerk, t_j0: sc[0][\"dt\"]}"
   ]
  },
  {
   "cell_type": "code",
   "execution_count": null,
   "id": "58de3b0d-48b4-4a5d-9098-99a5fb2b6e59",
   "metadata": {},
   "outputs": [],
   "source": [
    "a_j0 = m_j * t_j0"
   ]
  },
  {
   "cell_type": "code",
   "execution_count": null,
   "id": "c5fa3092-583e-4b0f-8ab9-526c66132a27",
   "metadata": {},
   "outputs": [],
   "source": [
    "v_j0 = m_j * t_j0 ** 2 / 2"
   ]
  },
  {
   "cell_type": "code",
   "execution_count": null,
   "id": "c3bf74aa-c0ce-41fe-be6a-09976f4c4694",
   "metadata": {},
   "outputs": [],
   "source": [
    "p_j0 = m_j * t_j0 **3 / 6"
   ]
  },
  {
   "cell_type": "code",
   "execution_count": null,
   "id": "4e084dba-5a95-48ab-a072-bab7ecef45ff",
   "metadata": {},
   "outputs": [],
   "source": [
    "np.array([p_j0.subs(d), v_j0.subs(d), a_j0.subs(d)]) - sc_min[0][\"x\"][:3]"
   ]
  },
  {
   "cell_type": "code",
   "execution_count": null,
   "id": "f058658a-b154-472e-a0f4-49cf098b95db",
   "metadata": {},
   "outputs": [],
   "source": [
    "v_a1 = v_j0"
   ]
  },
  {
   "cell_type": "code",
   "execution_count": null,
   "id": "00836de4-06a2-46af-8201-63d5e99bcc5f",
   "metadata": {},
   "outputs": [],
   "source": [
    "p_a1 = p_j0"
   ]
  },
  {
   "cell_type": "code",
   "execution_count": null,
   "id": "b95695e7-f389-48ae-b14e-6607d78ccd50",
   "metadata": {},
   "outputs": [],
   "source": [
    "np.array([p_a1.subs(d), v_a1.subs(d)]) - sc_min[1][\"x\"][:2]"
   ]
  },
  {
   "cell_type": "code",
   "execution_count": null,
   "id": "3643535a-059d-442d-b17f-33c4b515f6f4",
   "metadata": {},
   "outputs": [],
   "source": [
    "a_j2 = a_j0 - m_j * t_j0"
   ]
  },
  {
   "cell_type": "code",
   "execution_count": null,
   "id": "85607430-64ee-4d75-9dde-343930580c45",
   "metadata": {},
   "outputs": [],
   "source": [
    "v_j2 = v_a1 + a_j0 * t_j0 - m_j * t_j0 ** 2 / 2"
   ]
  },
  {
   "cell_type": "code",
   "execution_count": null,
   "id": "2f93b39d-e369-459e-b57f-40ea8f7e1dbd",
   "metadata": {},
   "outputs": [],
   "source": [
    "p_j2 = p_a1 + v_a1 * t_j0 + a_j0 * t_j0 ** 2 / 2 - m_j * t_j0 ** 3 / 6"
   ]
  },
  {
   "cell_type": "code",
   "execution_count": null,
   "id": "c44e1280-1306-434a-920e-752d21cbab33",
   "metadata": {},
   "outputs": [],
   "source": [
    "np.array([p_j2.subs(d), v_j2.subs(d), a_j2.subs(d)]) - sc_min[2][\"x\"][:3]"
   ]
  },
  {
   "cell_type": "code",
   "execution_count": null,
   "id": "d4195043-dd2a-4d43-9f91-99e39c0682bf",
   "metadata": {},
   "outputs": [],
   "source": [
    "a_j4 = -m_j * t_j0"
   ]
  },
  {
   "cell_type": "code",
   "execution_count": null,
   "id": "d0956304-ed66-47f9-ba9a-591fc551981a",
   "metadata": {},
   "outputs": [],
   "source": [
    "v_j4 = v_j2 - m_j * t_j0 ** 2 / 2"
   ]
  },
  {
   "cell_type": "code",
   "execution_count": null,
   "id": "9350938b-b1c6-4ed2-8add-c53ac4d8c181",
   "metadata": {},
   "outputs": [],
   "source": [
    "p_j4 = p_j2 + v_j2 * t_j0 - m_j * t_j0 ** 3 / 6"
   ]
  },
  {
   "cell_type": "code",
   "execution_count": null,
   "id": "d9ad5b3f-9dbe-4c38-85b9-42434728556a",
   "metadata": {},
   "outputs": [],
   "source": [
    "np.array([p_j4.subs(d), v_j4.subs(d), a_j4.subs(d)]) - sc_min[4][\"x\"][:3]"
   ]
  },
  {
   "cell_type": "code",
   "execution_count": null,
   "id": "0a4c2cca-cc90-41b9-9c21-9a563498e86c",
   "metadata": {},
   "outputs": [],
   "source": [
    "v_a5 = v_j4"
   ]
  },
  {
   "cell_type": "code",
   "execution_count": null,
   "id": "a02662e1-3e61-41bb-92a6-eb155d1ec02a",
   "metadata": {},
   "outputs": [],
   "source": [
    "p_a5 = p_j4"
   ]
  },
  {
   "cell_type": "code",
   "execution_count": null,
   "id": "797731a4-91e4-45a1-aa97-45436fcbe6ab",
   "metadata": {},
   "outputs": [],
   "source": [
    "np.array([p_a5.subs(d), v_a5.subs(d)]) - sc_min[5][\"x\"][:2]"
   ]
  },
  {
   "cell_type": "code",
   "execution_count": null,
   "id": "380c4bc0-0b12-4afd-93ad-3d5feae30a5a",
   "metadata": {},
   "outputs": [],
   "source": [
    "a_j6 = a_j4 + m_j * t_j0"
   ]
  },
  {
   "cell_type": "code",
   "execution_count": null,
   "id": "69f2a399-9011-4840-9bf0-6f3bfed2affe",
   "metadata": {},
   "outputs": [],
   "source": [
    "v_j6 = v_a5 + a_j4 * t_j0 + m_j * t_j0 ** 2 / 2"
   ]
  },
  {
   "cell_type": "code",
   "execution_count": null,
   "id": "bb79a175-03c0-4974-8224-477f024c626b",
   "metadata": {},
   "outputs": [],
   "source": [
    "p_j6 = p_a5 + v_a5 * t_j0 + a_j4 * t_j0 ** 2 / 2 + m_j * t_j0 ** 3 / 6"
   ]
  },
  {
   "cell_type": "code",
   "execution_count": null,
   "id": "910fc923-4c32-467c-aba2-dfd19fc2e0ac",
   "metadata": {},
   "outputs": [],
   "source": [
    "np.array([p_j6.subs(d), v_j6.subs(d)]) - sc_min[6][\"x\"][:2]"
   ]
  },
  {
   "cell_type": "code",
   "execution_count": null,
   "id": "47a6ac57-9160-4048-bfa7-b843871e9af8",
   "metadata": {},
   "outputs": [],
   "source": [
    "p_j6"
   ]
  },
  {
   "cell_type": "code",
   "execution_count": null,
   "id": "206490b3-6004-41d6-ae28-af1f00b0eac3",
   "metadata": {},
   "outputs": [],
   "source": [
    "sympy.solve(p_j6 - p, t_j0)"
   ]
  },
  {
   "cell_type": "code",
   "execution_count": null,
   "id": "a5cb32f2-ce1e-489e-b77a-aeaa66ff9c6e",
   "metadata": {},
   "outputs": [],
   "source": []
  },
  {
   "cell_type": "code",
   "execution_count": null,
   "id": "9d20b0c2-1013-478a-a62c-6d2bf72d92af",
   "metadata": {},
   "outputs": [],
   "source": [
    "def s_curve_min(dist, max_d):\n",
    "    \"\"\"Solve minimal s curve that hits parameters\n",
    "\n",
    "    max_d: [0: max_velocity, 1: max_acceleration, 2: max_jerk]\n",
    "    \"\"\"\n",
    "    \n",
    "    nd = len(max_d)\n",
    "    assert nd == 3\n",
    "    ns = 7\n",
    "    # x [0: positions, 1: velocity, 2: acceleration, 3: jerk]\n",
    "    sc = [{\"t\":0.0, \"dt\": 0.0, \"x\": np.zeros(nd + 1), \"dx\": np.zeros(nd + 1)} for i in range(ns)]\n",
    "    jerk_stage_sign = [1, 0, -1, 0, -1, 0, 1]\n",
    "    coast_stage = 3\n",
    "    t_j0 = 2 ** (2 / 3) * (dist / max_d[2]) ** (1 / 3) / 2\n",
    "\n",
    "    dt_jerk = min(max_d[1] / max_d[2], np.sqrt(max_d[0] * 2 / max_d[2]))\n",
    "    assert t_j0 <= dt_jerk\n",
    "\n",
    "    for(i, dt) in enumerate([t_j0, 0.0, t_j0, 0.0, t_j0, 0.0, t_j0]):\n",
    "        sc[i][\"dt\"] = dt\n",
    "        if i == 0:\n",
    "            t_prev = 0\n",
    "        else:\n",
    "            t_prev = sc[i - 1][\"t\"]\n",
    "        sc[i][\"t\"] = t_prev + sc[i][\"dt\"]\n",
    "    \n",
    "    for i in range(ns):\n",
    "        if i == 0:\n",
    "            x_prev = [0.0 for _ in range(nd + 1)]\n",
    "        else:\n",
    "            x_prev = sc[i - 1][\"x\"]\n",
    "        # set jerk\n",
    "        sc[i][\"x\"][3] = max_d[2] * jerk_stage_sign[i]\n",
    "        sc[i][\"dx\"][3] = sc[i][\"x\"][3] - x_prev[3]\n",
    "        # set d_acceleration\n",
    "        sc[i][\"dx\"][2] = sc[i][\"x\"][3] * sc[i][\"dt\"]\n",
    "        # set d_velocity\n",
    "        sc[i][\"dx\"][1] = x_prev[2] * sc[i][\"dt\"] + 1 / 2 * sc[i][\"x\"][3] * sc[i][\"dt\"] ** 2\n",
    "        # set d_position\n",
    "        sc[i][\"dx\"][0] = x_prev[1] * sc[i][\"dt\"] + 1 / 2 * x_prev[2] * sc[i][\"dt\"] ** 2 + 1 / 6 * sc[i][\"x\"][3] * sc[i][\"dt\"] ** 3\n",
    "        # set x\n",
    "        sc[i][\"x\"] = x_prev + sc[i][\"dx\"]\n",
    "    return sc\n",
    "    # todo: use this to generate both full curve and minimal, 4 stage curve\n",
    "    # make sanity check function"
   ]
  },
  {
   "cell_type": "code",
   "execution_count": null,
   "id": "a50b4b1c-f48c-4d90-b73d-920dab1058e5",
   "metadata": {},
   "outputs": [],
   "source": [
    "out = s_curve_long(s_curve_min(1, [max_velocity, max_acceleration, max_jerk]), 0.001)"
   ]
  },
  {
   "cell_type": "code",
   "execution_count": null,
   "id": "0f4eb132-2141-4c9b-ba8a-ddf14c9a08c7",
   "metadata": {},
   "outputs": [],
   "source": [
    "hv.Curve(pd.DataFrame(out), \"t\", \"p\") + hv.Curve(pd.DataFrame(out), \"t\", \"v\")+ hv.Curve(pd.DataFrame(out), \"t\", \"a\")+ hv.Curve(pd.DataFrame(out), \"t\", \"j\")"
   ]
  },
  {
   "cell_type": "markdown",
   "id": "b2830502-08b5-4022-a3c6-b4bc28245299",
   "metadata": {},
   "source": [
    "# Motor Control\n",
    "\n",
    "We will want the penholder to follow the s curve and will need to back out the other info for the joints. We will want to solve it for t given p_motor so we know when to make the motor step."
   ]
  },
  {
   "cell_type": "code",
   "execution_count": null,
   "id": "8df4681c-cc4c-401a-ba06-aa6fbf19c0fe",
   "metadata": {},
   "outputs": [],
   "source": [
    "start = np.array([0.6, 0.8]).reshape(1,2)\n",
    "end = np.array([0.0, 0.0]).reshape(1,2)"
   ]
  },
  {
   "cell_type": "code",
   "execution_count": null,
   "id": "70185613-cbed-46f8-94e6-1499f41ac9e5",
   "metadata": {},
   "outputs": [],
   "source": [
    "p, t_j0, m_v, m_a, m_j, d_x, d_y, x_m, y_m, p_m = sympy.symbols(\"p t_j0 m_v m_a m_j d_x d_y x_m y_m p_m\")"
   ]
  },
  {
   "cell_type": "code",
   "execution_count": null,
   "id": "e287a577-be61-4ae2-a32c-7b5aa1eed233",
   "metadata": {},
   "outputs": [],
   "source": [
    "p_j0 = m_j * t_j0 **3 / 6"
   ]
  },
  {
   "cell_type": "code",
   "execution_count": null,
   "id": "01871a69-e30a-4c5f-8beb-4a7fbbe059d3",
   "metadata": {},
   "outputs": [],
   "source": [
    "# d_x and d_y are the basis vectors for the stright motion of p\n",
    "p_j0x = p_j0 * d_x"
   ]
  },
  {
   "cell_type": "code",
   "execution_count": null,
   "id": "f0deba17-9ef4-40a5-be44-7186ea20e3f3",
   "metadata": {},
   "outputs": [],
   "source": [
    "p_j0y = p_j0 * d_y"
   ]
  },
  {
   "cell_type": "code",
   "execution_count": null,
   "id": "570828ff-c1a3-469c-bfcf-108602f93d1a",
   "metadata": {},
   "outputs": [],
   "source": [
    "solutions = sympy.solve(sympy.sqrt(((x_m - p_j0x) ** 2 + (y_m - p_j0y) ** 2)) - p_m, t_j0)"
   ]
  },
  {
   "cell_type": "code",
   "execution_count": null,
   "id": "ff7058b3-344c-40ea-b4af-d49ba90788a6",
   "metadata": {},
   "outputs": [],
   "source": [
    "len(solutions)"
   ]
  },
  {
   "cell_type": "code",
   "execution_count": null,
   "id": "efb1816f-644c-439c-a9de-f1d4a00318e4",
   "metadata": {},
   "outputs": [],
   "source": [
    "for s in solutions:\n",
    "    display(s)"
   ]
  },
  {
   "cell_type": "code",
   "execution_count": null,
   "id": "d8b4a0d2-f311-4d84-b88d-a52deaad6cc2",
   "metadata": {},
   "outputs": [],
   "source": [
    "solutions[5:]"
   ]
  },
  {
   "cell_type": "markdown",
   "id": "3bd321d2-89cb-4090-8a38-c811dac670e4",
   "metadata": {},
   "source": [
    "hmm.\n",
    "\n",
    "6 ugly solutions. That's a nasty solution assuming I did it right. Maybe this is not the way to do it.\n",
    "\n",
    "might be the last one\n",
    "\n",
    "`(6*d_x*x_m/(d_x**2*m_j + d_y**2*m_j) + 6*d_y*y_m/(d_x**2*m_j + d_y**2*m_j) + sqrt(36*d_x**2*p_m**2 - 36*d_x**2*y_m**2 + 72*d_x*d_y*x_m*y_m + 36*d_y**2*p_m**2 - 36*d_y**2*x_m**2)/(d_x**2*m_j + d_y**2*m_j))**(1/3)`"
   ]
  },
  {
   "cell_type": "markdown",
   "id": "f853c0d0-cc90-43cb-ab27-ec7612080cae",
   "metadata": {},
   "source": [
    "# Plan B\n",
    "\n",
    "The more straight forward way to do this is to just calculate where the motors should be in a continuous loop and update them whenever they are more than a step out of whack.\n",
    "\n",
    "You could even estimate when that would be by computing the desired position twice. Do it once for the current time and again with a small time delta to see how much closer we are to needing to step. This would come about naturally in a agressive loop scenario if you just remember the last time you ran. What time was it and how close to a step were you then. You would even know about how long a calculation takes which could factor in. You might take the step early to avoid being late."
   ]
  },
  {
   "cell_type": "code",
   "execution_count": null,
   "id": "3822f650-f43d-4fd1-b40d-50ad040a6e41",
   "metadata": {},
   "outputs": [],
   "source": []
  }
 ],
 "metadata": {
  "kernelspec": {
   "display_name": "Python 3 (ipykernel)",
   "language": "python",
   "name": "python3"
  },
  "language_info": {
   "codemirror_mode": {
    "name": "ipython",
    "version": 3
   },
   "file_extension": ".py",
   "mimetype": "text/x-python",
   "name": "python",
   "nbconvert_exporter": "python",
   "pygments_lexer": "ipython3",
   "version": "3.11.8"
  }
 },
 "nbformat": 4,
 "nbformat_minor": 5
}
