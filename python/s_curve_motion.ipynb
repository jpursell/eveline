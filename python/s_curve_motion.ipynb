{
 "cells": [
  {
   "cell_type": "markdown",
   "id": "2cc0685c-c21f-432f-8b1f-fda0faa42d89",
   "metadata": {},
   "source": [
    "https://youtu.be/0ZqeBEa_MWo?si=euGFINmBNnY8qPbn&t=149"
   ]
  },
  {
   "cell_type": "code",
   "execution_count": null,
   "id": "282ca4df-8ada-4212-a972-87f9687593d6",
   "metadata": {},
   "outputs": [],
   "source": [
    "import holoviews as hv\n",
    "import numpy as np\n",
    "import pandas as pd\n",
    "from icecream import ic"
   ]
  },
  {
   "cell_type": "code",
   "execution_count": null,
   "id": "063942bb-021c-44a7-9d85-64ec0a9e7e77",
   "metadata": {},
   "outputs": [],
   "source": [
    "hv.extension(\"bokeh\")"
   ]
  },
  {
   "cell_type": "code",
   "execution_count": null,
   "id": "dd0fbea7-875c-4dad-8e20-7d6511441e0f",
   "metadata": {},
   "outputs": [],
   "source": [
    "spool_radius = 5.75\n",
    "gear_ratio = (59.0 / 17.0) ** 2\n",
    "STEP_DIVISION = 1\n",
    "motor_steps_per_revolution = 100 * STEP_DIVISION\n",
    "spool_circumfrence = spool_radius * 2 * np.pi\n",
    "ic(spool_circumfrence)\n",
    "steps_per_mm = motor_steps_per_revolution * gear_ratio / spool_circumfrence\n",
    "ic(steps_per_mm)\n",
    "max_rpm = 100.0\n",
    "max_revs_per_second = max_rpm / 60.0\n",
    "max_steps_per_second = max_revs_per_second * motor_steps_per_revolution\n",
    "ic(max_steps_per_second)\n",
    "max_velocity = max_steps_per_second / steps_per_mm\n",
    "ic(max_velocity)\n",
    "max_acceleration = 1.0\n",
    "max_jerk = 1.0"
   ]
  },
  {
   "cell_type": "markdown",
   "id": "6e81657d-5e8b-4b7b-b29f-a6f9ecbd9661",
   "metadata": {},
   "source": [
    "# Stage 0: Constant Jerk\n",
    "\n",
    "Reach maximum acceleration\n",
    "\n",
    "acceleration = max_jerk * t\n",
    "\n",
    "velocity = 0.5 * max_jerk * t ** 2\n",
    "\n",
    "t_max_jerk_2 = sqrt(velocity * 2 / max_jerk)\n",
    "\n",
    "position = 1 /6 * max_jerk * t ** 3"
   ]
  },
  {
   "cell_type": "code",
   "execution_count": null,
   "id": "759a4cd9-7318-41af-8c4f-9346d18721de",
   "metadata": {},
   "outputs": [],
   "source": [
    "sc = [{\"t\":0.0, \"v\":0.0, \"p\":0.0, \"dt\": 0.0, \"dv\": 0.0, \"dp\": 0.0} for i in range(7)]\n",
    "# either max_jerk to max_acceleration or max_velocity\n",
    "sc[0][\"dt\"] = sc[0][\"t\"] = min(ic(max_acceleration / max_jerk), ic(np.sqrt(max_velocity * 2 / max_jerk)))\n",
    "sc[0][\"dv\"] = sc[0][\"v\"] = max_jerk * sc[0][\"t\"] ** 2 / 2\n",
    "sc[0][\"dp\"] = sc[0][\"p\"] = max_jerk * sc[0][\"t\"] ** 3 / 6\n",
    "ic(sc[0])"
   ]
  },
  {
   "cell_type": "markdown",
   "id": "5ef57ae1-261a-4b69-9f2e-665c54e59eb6",
   "metadata": {},
   "source": [
    "# Stage 1: Constant Acceleration\n",
    "\n",
    "Boost speed to almost maximum at max acceleration\n",
    "\n",
    "delta_acc = max_velocity - v_max_jerk * 2\n",
    "\n",
    "v_max_acc = v_max_jerk + max_acceleration * t_max_acc\n",
    "\n",
    "p_max_acc = v_max_jerk * t_max_acc + 1 /2 * max_acceleration * t_max_acc ** 2"
   ]
  },
  {
   "cell_type": "code",
   "execution_count": null,
   "id": "4370ed7c-0023-4c10-b597-3e01ce25141d",
   "metadata": {},
   "outputs": [],
   "source": [
    "sc[1][\"dv\"] = ic(ic(max_velocity) - ic(v_max_jerk * 2))\n",
    "sc[1][\"v\"] = sc[0][\"v\"] + sc[1][\"dv\"]\n",
    "sc[1][\"dt\"] = sc[1][\"dv\"] / max_acceleration\n",
    "sc[1][\"t\"] = sc[0][\"t\"] + sc[1][\"dt\"]\n",
    "sc[1][\"dp\"] = ic(sc[0][\"v\"] * sc[1][\"dt\"]) + ic(1 /2 * max_acceleration * sc[1][\"dt\"] ** 2)\n",
    "sc[1][\"p\"] = sc[0][\"p\"] + sc[1][\"dp\"]\n",
    "ic(sc[1])"
   ]
  },
  {
   "cell_type": "markdown",
   "id": "85d507d6-220b-484f-941c-5f0de1a97ed2",
   "metadata": {},
   "source": [
    "# Stage 2: Constant jerk\n",
    "\n",
    "Now we need to reduce our acceleration back down to 0 with out final velocity being max_velocity"
   ]
  },
  {
   "cell_type": "code",
   "execution_count": null,
   "id": "d490ad0d-9980-4529-90a6-268698dd2978",
   "metadata": {},
   "outputs": [],
   "source": [
    "# All the constant jerk sections should have the same dt\n",
    "sc[2][\"dt\"] = sc[0][\"dt\"]\n",
    "sc[2][\"dv\"] = max_acceleration * sc[2][\"dt\"] ** 2 / 2\n",
    "sc[2][\"v\"] = sc[1][\"v\"] + sc[2][\"dv\"]\n",
    "ic(sc[2])\n",
    "assert(sc[2][\"v\"] == max_velocity)"
   ]
  },
  {
   "cell_type": "code",
   "execution_count": null,
   "id": "01793adc-c3d9-450e-8dbf-9f67ce8ee6e7",
   "metadata": {},
   "outputs": [],
   "source": [
    "start = np.array([150.0, 200.0]).reshape(1,2)\n",
    "end = np.array([0.0, 0.0]).reshape(1,2)"
   ]
  }
 ],
 "metadata": {
  "kernelspec": {
   "display_name": "Python 3 (ipykernel)",
   "language": "python",
   "name": "python3"
  },
  "language_info": {
   "codemirror_mode": {
    "name": "ipython",
    "version": 3
   },
   "file_extension": ".py",
   "mimetype": "text/x-python",
   "name": "python",
   "nbconvert_exporter": "python",
   "pygments_lexer": "ipython3",
   "version": "3.11.8"
  }
 },
 "nbformat": 4,
 "nbformat_minor": 5
}
