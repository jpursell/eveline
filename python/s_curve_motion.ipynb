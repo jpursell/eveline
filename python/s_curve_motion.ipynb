{
 "cells": [
  {
   "cell_type": "markdown",
   "id": "2cc0685c-c21f-432f-8b1f-fda0faa42d89",
   "metadata": {},
   "source": [
    "https://youtu.be/0ZqeBEa_MWo?si=euGFINmBNnY8qPbn&t=149"
   ]
  },
  {
   "cell_type": "code",
   "execution_count": null,
   "id": "282ca4df-8ada-4212-a972-87f9687593d6",
   "metadata": {},
   "outputs": [],
   "source": [
    "import copy\n",
    "\n",
    "import holoviews as hv\n",
    "import numpy as np\n",
    "import pandas as pd\n",
    "from icecream import ic"
   ]
  },
  {
   "cell_type": "code",
   "execution_count": null,
   "id": "063942bb-021c-44a7-9d85-64ec0a9e7e77",
   "metadata": {},
   "outputs": [],
   "source": [
    "hv.extension(\"bokeh\")"
   ]
  },
  {
   "cell_type": "code",
   "execution_count": null,
   "id": "dd0fbea7-875c-4dad-8e20-7d6511441e0f",
   "metadata": {},
   "outputs": [],
   "source": [
    "spool_radius = 5.75\n",
    "gear_ratio = (59.0 / 17.0) ** 2\n",
    "STEP_DIVISION = 1\n",
    "motor_steps_per_revolution = 100 * STEP_DIVISION\n",
    "spool_circumfrence = spool_radius * 2 * np.pi\n",
    "ic(spool_circumfrence)\n",
    "steps_per_mm = motor_steps_per_revolution * gear_ratio / spool_circumfrence\n",
    "ic(steps_per_mm)\n",
    "max_rpm = 100.0\n",
    "max_revs_per_second = max_rpm / 60.0\n",
    "max_steps_per_second = max_revs_per_second * motor_steps_per_revolution\n",
    "ic(max_steps_per_second)\n",
    "max_velocity = max_steps_per_second / steps_per_mm\n",
    "ic(max_velocity)\n",
    "max_acceleration = 1.0\n",
    "max_jerk = 1.0"
   ]
  },
  {
   "cell_type": "code",
   "execution_count": null,
   "id": "793047a9-37f4-4b97-86d4-941f3dcf637f",
   "metadata": {},
   "outputs": [],
   "source": [
    "def s_curve(max_jerk, max_acceleration, max_velocity):\n",
    "    \"\"\"Solve minimal s curve that hits parameters\"\"\"\n",
    "    sc = [{\"t\":0.0, \"a\": 0.0, \"v\":0.0, \"p\":0.0, \"dt\": 0.0, \"da\": 0.0, \"dv\": 0.0, \"dp\": 0.0} for i in range(7)]\n",
    "    # either max_jerk to max_acceleration or max_velocity\n",
    "    sc[0][\"dt\"] = sc[0][\"t\"] = min(ic(max_acceleration / max_jerk), ic(np.sqrt(max_velocity * 2 / max_jerk)))\n",
    "    sc[0][\"dv\"] = sc[0][\"v\"] = max_jerk * sc[0][\"t\"] ** 2 / 2\n",
    "    ic(1/2*sc[0][\"dv\"] * sc[0][\"dt\"] ** 2)\n",
    "    sc[0][\"dp\"] = sc[0][\"p\"] = max_jerk * sc[0][\"t\"] ** 3 / 6\n",
    "    \n",
    "    # todo: finish stages\n",
    "    # todo: use this to generate both full curve and minimal, 4 stage curve\n",
    "    # make sanity check function"
   ]
  },
  {
   "cell_type": "markdown",
   "id": "6e81657d-5e8b-4b7b-b29f-a6f9ecbd9661",
   "metadata": {},
   "source": [
    "# Stage 0: Constant Jerk\n",
    "\n",
    "Reach maximum acceleration\n",
    "\n",
    "acceleration = max_jerk * t\n",
    "\n",
    "velocity = 0.5 * max_jerk * t ** 2\n",
    "\n",
    "t_max_jerk_2 = sqrt(velocity * 2 / max_jerk)\n",
    "\n",
    "position = 1 /6 * max_jerk * t ** 3"
   ]
  },
  {
   "cell_type": "code",
   "execution_count": null,
   "id": "759a4cd9-7318-41af-8c4f-9346d18721de",
   "metadata": {},
   "outputs": [],
   "source": [
    "sc = [{\"t\":0.0, \"v\":0.0, \"p\":0.0, \"dt\": 0.0, \"dv\": 0.0, \"dp\": 0.0} for i in range(7)]\n",
    "# either max_jerk to max_acceleration or max_velocity\n",
    "sc[0][\"dt\"] = sc[0][\"t\"] = min(ic(max_acceleration / max_jerk), ic(np.sqrt(max_velocity * 2 / max_jerk)))\n",
    "sc[0][\"dv\"] = sc[0][\"v\"] = max_jerk * sc[0][\"t\"] ** 2 / 2\n",
    "ic(1/2*sc[0][\"dv\"] * sc[0][\"dt\"] ** 2)\n",
    "sc[0][\"dp\"] = sc[0][\"p\"] = max_jerk * sc[0][\"t\"] ** 3 / 6\n",
    "ic(sc[0])"
   ]
  },
  {
   "cell_type": "markdown",
   "id": "5ef57ae1-261a-4b69-9f2e-665c54e59eb6",
   "metadata": {},
   "source": [
    "# Stage 1: Constant Acceleration\n",
    "\n",
    "Boost speed to almost maximum at max acceleration\n",
    "\n",
    "delta_acc = max_velocity - v_max_jerk * 2\n",
    "\n",
    "v_max_acc = v_max_jerk + max_acceleration * t_max_acc\n",
    "\n",
    "p_max_acc = v_max_jerk * t_max_acc + 1 /2 * max_acceleration * t_max_acc ** 2"
   ]
  },
  {
   "cell_type": "code",
   "execution_count": null,
   "id": "4370ed7c-0023-4c10-b597-3e01ce25141d",
   "metadata": {},
   "outputs": [],
   "source": [
    "sc[1][\"dv\"] = ic(ic(max_velocity) - ic(sc[0][\"v\"] * 2))\n",
    "sc[1][\"v\"] = sc[0][\"v\"] + sc[1][\"dv\"]\n",
    "sc[1][\"dt\"] = sc[1][\"dv\"] / max_acceleration\n",
    "sc[1][\"t\"] = sc[0][\"t\"] + sc[1][\"dt\"]\n",
    "sc[1][\"dp\"] = ic(sc[0][\"v\"] * sc[1][\"dt\"]) + ic(1 /2 * max_acceleration * sc[1][\"dt\"] ** 2)\n",
    "sc[1][\"p\"] = sc[0][\"p\"] + sc[1][\"dp\"]\n",
    "ic(sc[1])"
   ]
  },
  {
   "cell_type": "markdown",
   "id": "85d507d6-220b-484f-941c-5f0de1a97ed2",
   "metadata": {},
   "source": [
    "# Stage 2: Constant jerk\n",
    "\n",
    "Now we need to reduce our acceleration back down to 0 with out final velocity being max_velocity\n",
    "\n",
    "j = -max_jerk\n",
    "\n",
    "a = max_acc -max_jerk * t\n",
    "\n",
    "v = v1 + max_acc * t - 1/2 * max_jerk * t**2\n",
    "\n",
    "p = p1 + v1 * t + 1/2 * max_acc * t ** 2 - 1/6*max_jerk * t ** 3"
   ]
  },
  {
   "cell_type": "code",
   "execution_count": null,
   "id": "d490ad0d-9980-4529-90a6-268698dd2978",
   "metadata": {},
   "outputs": [],
   "source": [
    "# All the constant jerk sections should have the same dt\n",
    "sc[2][\"dt\"] = sc[0][\"dt\"]\n",
    "sc[2][\"t\"] = sc[1][\"t\"] + sc[2][\"dt\"]\n",
    "sc[2][\"dv\"] = sc[0][\"dv\"]\n",
    "sc[2][\"v\"] = sc[1][\"v\"] + sc[2][\"dv\"]\n",
    "sc[2][\"dp\"] = sc[1][\"v\"] * sc[2][\"dt\"] + 1 / 2 * max_acceleration * sc[2][\"dt\"] ** 2 - 1 / 6 * max_jerk * sc[2][\"dt\"] ** 3\n",
    "sc[2][\"p\"] = sc[1][\"p\"] + sc[2][\"dp\"]\n",
    "ic(sc[2])\n",
    "assert(sc[2][\"v\"] == max_velocity)"
   ]
  },
  {
   "cell_type": "markdown",
   "id": "dce000dc-26ce-491c-b3f2-33998fb621d2",
   "metadata": {},
   "source": [
    "# Stage 3: Coast\n",
    "\n",
    "We can run a maximum velocity now"
   ]
  },
  {
   "cell_type": "code",
   "execution_count": null,
   "id": "f3a18bd6-59e8-47d6-beb6-892c1b5d24a8",
   "metadata": {},
   "outputs": [],
   "source": [
    "# just setting dt to 0 for minimal curve\n",
    "sc[3][\"dt\"] = 0\n",
    "sc[3][\"t\"] = sc[2][\"t\"] + sc[3][\"dt\"]\n",
    "sc[3][\"dv\"] = 0\n",
    "sc[3][\"v\"] = sc[2][\"v\"]\n",
    "sc[3][\"dp\"] = sc[3][\"v\"] * sc[3][\"dt\"]\n",
    "sc[3][\"p\"] = sc[2][\"p\"] + sc[3][\"dp\"]\n",
    "ic(sc[3])\n",
    "assert(sc[3][\"v\"] == max_velocity)"
   ]
  },
  {
   "cell_type": "markdown",
   "id": "1fa874ad-96ac-42d9-8fd8-5c477b3d2d42",
   "metadata": {},
   "source": [
    "# Stage 4: Constant Jerk\n",
    "\n",
    "Change acceleration from 0 to -max_acceleration\n",
    "\n",
    "j = -max_jerk\n",
    "\n",
    "a = -max_jerk * t\n",
    "\n",
    "v = max_vel - 1 / 2 * max_jerk * t ** 2\n",
    "\n",
    "p = p3 + max_vel * t - 1 / 6 * max_jerl * t ** 3"
   ]
  },
  {
   "cell_type": "code",
   "execution_count": null,
   "id": "34e8d53b-e9d8-4666-adeb-514ed121db04",
   "metadata": {},
   "outputs": [],
   "source": [
    "# All the constant jerk sections should have the same dt\n",
    "sc[4][\"dt\"] = sc[0][\"dt\"]\n",
    "sc[4][\"t\"] = sc[3][\"t\"] + sc[4][\"dt\"]\n",
    "sc[4][\"dv\"] = -max_acceleration * sc[4][\"dt\"] ** 2 / 2\n",
    "sc[4][\"v\"] = sc[3][\"v\"] + sc[4][\"dv\"]\n",
    "sc[4][\"dp\"] = sc[3][\"v\"] * sc[4][\"dt\"] - 1 / 6 * max_jerk * sc[4][\"dt\"] ** 3\n",
    "sc[4][\"p\"] = sc[3][\"p\"] + sc[4][\"dp\"]\n",
    "ic(sc[4])"
   ]
  },
  {
   "cell_type": "markdown",
   "id": "06357414-9f2f-4932-a688-036f97b65f30",
   "metadata": {},
   "source": [
    "# Stage 5: Constant Acceleration\n",
    "\n",
    "Reduce speed to almost 0"
   ]
  },
  {
   "cell_type": "code",
   "execution_count": null,
   "id": "c0e30bf9-e2ef-4719-8a1e-d966296314a1",
   "metadata": {},
   "outputs": [],
   "source": [
    "# this will match the other constant acceleration stage\n",
    "sc[5][\"dv\"] = -sc[1][\"dv\"]\n",
    "sc[5][\"v\"] = sc[4][\"v\"] + sc[5][\"dv\"]\n",
    "sc[5][\"dt\"] = sc[1][\"dt\"]\n",
    "sc[5][\"t\"] = sc[4][\"t\"] + sc[5][\"dt\"]\n",
    "sc[5][\"dp\"] = sc[5][\"v\"] * sc[5][\"dt\"] + 1 /2 * max_acceleration * sc[5][\"dt\"] ** 2\n",
    "sc[5][\"p\"] = sc[4][\"p\"] + sc[5][\"dp\"]\n",
    "ic(sc[5])"
   ]
  },
  {
   "cell_type": "markdown",
   "id": "efcfb294-7674-44f2-9468-75f0fe6652c5",
   "metadata": {},
   "source": [
    "# Stage 6: Constant Jerk\n",
    "\n",
    "Change acceleration from -max_acceleration to 0"
   ]
  },
  {
   "cell_type": "code",
   "execution_count": null,
   "id": "2f16ff82-57b4-4553-b432-f8dddf093fb4",
   "metadata": {},
   "outputs": [],
   "source": [
    "# All the constant jerk sections should have the same dt and dv\n",
    "sc[6][\"dt\"] = sc[0][\"dt\"]\n",
    "sc[6][\"t\"] = sc[5][\"t\"] + sc[6][\"dt\"]\n",
    "sc[6][\"dv\"] = -sc[0][\"dv\"]\n",
    "sc[6][\"v\"] = sc[5][\"v\"] + sc[6][\"dv\"]\n",
    "assert(sc[6][\"v\"] == 0)\n",
    "sc[6][\"dp\"] = sc[0][\"dp\"]\n",
    "sc[6][\"p\"] = sc[5][\"p\"] + sc[6][\"dp\"]\n",
    "ic(sc[6])"
   ]
  },
  {
   "cell_type": "code",
   "execution_count": null,
   "id": "92e280fd-1335-4c82-a3ac-921268095583",
   "metadata": {},
   "outputs": [],
   "source": [
    "pd.DataFrame(sc)"
   ]
  },
  {
   "cell_type": "code",
   "execution_count": null,
   "id": "fcccb8ec-87ca-4a22-8116-cafedaac76bc",
   "metadata": {},
   "outputs": [],
   "source": [
    "hv.Curve(pd.DataFrame(sc), \"t\", \"v\") + hv.Curve(pd.DataFrame(sc), \"t\", \"p\")"
   ]
  },
  {
   "cell_type": "markdown",
   "id": "b8482512-8d09-4603-9015-8ab5e7809fec",
   "metadata": {},
   "source": [
    "# Sanity Check\n",
    "\n",
    "Solve the curve segments from sc[i][\"dt\"] incrementally"
   ]
  },
  {
   "cell_type": "code",
   "execution_count": null,
   "id": "cdd5cbdb-5552-4c0d-a5be-cd215a45620d",
   "metadata": {},
   "outputs": [],
   "source": [
    "# section 0\n",
    "dt = 0.00001\n",
    "state = {\n",
    "    \"t\": 0,\n",
    "    \"v\": 0,\n",
    "    \"a\": 0,\n",
    "    \"p\": 0\n",
    "}\n",
    "hist = [state.copy()]\n",
    "while True:\n",
    "    state[\"t\"] += dt\n",
    "    state[\"a\"] += max_jerk * dt\n",
    "    state[\"v\"] += state[\"a\"] * dt\n",
    "    state[\"p\"] += state[\"v\"] * dt\n",
    "    hist.append(state.copy())\n",
    "    if state[\"t\"] >= sc[0][\"t\"]:\n",
    "        break\n",
    "\n",
    "ic(hist[-1])\n",
    "ic(sc[0])\n",
    "ic(sc[0][\"p\"] - hist[-1][\"p\"])"
   ]
  },
  {
   "cell_type": "code",
   "execution_count": null,
   "id": "0663067d-9ea9-415e-9b9d-c718dafdefd5",
   "metadata": {},
   "outputs": [],
   "source": [
    "# section 1\n",
    "state = {\n",
    "    \"t\": sc[0][\"t\"],\n",
    "    \"v\": sc[0][\"v\"],\n",
    "    \"a\": max_acceleration,\n",
    "    \"p\": sc[0][\"p\"]\n",
    "}\n",
    "while True:\n",
    "    state[\"t\"] += dt\n",
    "    #state[\"a\"] += max_jerk * dt\n",
    "    state[\"v\"] += state[\"a\"] * dt\n",
    "    state[\"p\"] += state[\"v\"] * dt\n",
    "    hist.append(state.copy())\n",
    "    if state[\"t\"] >= sc[1][\"t\"]:\n",
    "        break\n",
    "\n",
    "ic(hist[-1])\n",
    "ic(sc[1])\n",
    "ic(sc[1][\"p\"] - hist[-1][\"p\"])"
   ]
  },
  {
   "cell_type": "code",
   "execution_count": null,
   "id": "5ace0d15-00bb-488d-9290-46177f68888f",
   "metadata": {},
   "outputs": [],
   "source": [
    "# section 2\n",
    "state = {\n",
    "    \"t\": sc[1][\"t\"],\n",
    "    \"v\": sc[1][\"v\"],\n",
    "    \"a\": max_acceleration,\n",
    "    \"p\": sc[1][\"p\"]\n",
    "}\n",
    "while True:\n",
    "    state[\"t\"] += dt\n",
    "    state[\"a\"] -= max_jerk * dt\n",
    "    state[\"v\"] += state[\"a\"] * dt\n",
    "    state[\"p\"] += state[\"v\"] * dt\n",
    "    hist.append(state.copy())\n",
    "    if state[\"t\"] >= sc[2][\"t\"]:\n",
    "        break\n",
    "\n",
    "ic(hist[-1])\n",
    "ic(sc[2])\n",
    "ic(sc[2][\"p\"] - hist[-1][\"p\"])"
   ]
  },
  {
   "cell_type": "code",
   "execution_count": null,
   "id": "e0c15cb2-2a49-43b1-ae4e-72e9ae88d834",
   "metadata": {},
   "outputs": [],
   "source": [
    "# section 3: coast\n",
    "state = {\n",
    "    \"t\": sc[2][\"t\"],\n",
    "    \"v\": sc[2][\"v\"],\n",
    "    \"a\": 0,\n",
    "    \"p\": sc[2][\"p\"]\n",
    "}\n",
    "while True:\n",
    "    state[\"t\"] += dt\n",
    "    #state[\"a\"] -= max_jerk * dt\n",
    "    #state[\"v\"] += state[\"a\"] * dt\n",
    "    state[\"p\"] += state[\"v\"] * dt\n",
    "    hist.append(state.copy())\n",
    "    if state[\"t\"] >= sc[3][\"t\"]:\n",
    "        break\n",
    "\n",
    "ic(hist[-1])\n",
    "ic(sc[3])\n",
    "ic(sc[3][\"p\"] - hist[-1][\"p\"])"
   ]
  },
  {
   "cell_type": "code",
   "execution_count": null,
   "id": "24fa7dbf-e384-4cf4-8817-7cf2fad76c15",
   "metadata": {},
   "outputs": [],
   "source": [
    "# section 4: constant jerk\n",
    "state = {\n",
    "    \"t\": sc[3][\"t\"],\n",
    "    \"v\": sc[3][\"v\"],\n",
    "    \"a\": 0,\n",
    "    \"p\": sc[3][\"p\"]\n",
    "}\n",
    "while True:\n",
    "    state[\"t\"] += dt\n",
    "    state[\"a\"] -= max_jerk * dt\n",
    "    state[\"v\"] += state[\"a\"] * dt\n",
    "    state[\"p\"] += state[\"v\"] * dt\n",
    "    hist.append(state.copy())\n",
    "    if state[\"t\"] >= sc[4][\"t\"]:\n",
    "        break\n",
    "\n",
    "ic(hist[-1])\n",
    "ic(sc[4])\n",
    "ic(sc[4][\"p\"] - hist[-1][\"p\"])"
   ]
  },
  {
   "cell_type": "code",
   "execution_count": null,
   "id": "b01bb0ae-6cba-4d82-8032-4871f1676f9d",
   "metadata": {},
   "outputs": [],
   "source": [
    "# section 5\n",
    "state = {\n",
    "    \"t\": sc[4][\"t\"],\n",
    "    \"v\": sc[4][\"v\"],\n",
    "    \"a\": -max_acceleration,\n",
    "    \"p\": sc[4][\"p\"]\n",
    "}\n",
    "while True:\n",
    "    state[\"t\"] += dt\n",
    "    #state[\"a\"] += max_jerk * dt\n",
    "    state[\"v\"] += state[\"a\"] * dt\n",
    "    state[\"p\"] += state[\"v\"] * dt\n",
    "    hist.append(state.copy())\n",
    "    if state[\"t\"] >= sc[5][\"t\"]:\n",
    "        break\n",
    "\n",
    "ic(hist[-1])\n",
    "ic(sc[5])\n",
    "ic(sc[5][\"p\"] - hist[-1][\"p\"])"
   ]
  },
  {
   "cell_type": "code",
   "execution_count": null,
   "id": "d16ed824-0874-41be-a5b6-718af310b175",
   "metadata": {},
   "outputs": [],
   "source": [
    "# section 6: constant jerk\n",
    "state = {\n",
    "    \"t\": sc[5][\"t\"],\n",
    "    \"v\": sc[5][\"v\"],\n",
    "    \"a\": -max_acceleration,\n",
    "    \"p\": sc[5][\"p\"]\n",
    "}\n",
    "while True:\n",
    "    state[\"t\"] += dt\n",
    "    state[\"a\"] += max_jerk * dt\n",
    "    state[\"v\"] += state[\"a\"] * dt\n",
    "    state[\"p\"] += state[\"v\"] * dt\n",
    "    hist.append(state.copy())\n",
    "    if state[\"t\"] >= sc[6][\"t\"]:\n",
    "        break\n",
    "\n",
    "ic(hist[-1])\n",
    "ic(sc[6])\n",
    "ic(sc[6][\"p\"] - hist[-1][\"p\"])"
   ]
  },
  {
   "cell_type": "code",
   "execution_count": null,
   "id": "0d4c3808-a8ca-4e1b-ba3c-f6ed5275af7f",
   "metadata": {},
   "outputs": [],
   "source": [
    "hv.Curve(hist, \"t\", \"v\") + hv.Curve(hist, \"t\", \"p\")"
   ]
  },
  {
   "cell_type": "code",
   "execution_count": null,
   "id": "01793adc-c3d9-450e-8dbf-9f67ce8ee6e7",
   "metadata": {},
   "outputs": [],
   "source": [
    "start = np.array([150.0, 200.0]).reshape(1,2)\n",
    "end = np.array([0.0, 0.0]).reshape(1,2)"
   ]
  },
  {
   "cell_type": "code",
   "execution_count": null,
   "id": "f8a312c5-1854-457e-92d9-5faed3340562",
   "metadata": {},
   "outputs": [],
   "source": [
    "def full_s_curve(start, end):\n",
    "    \"\"\"Solve for full s-curve and ignore joint constraints\"\"\"\n",
    "    \n",
    "    dist = np.linalg.norm(start - end)\n",
    "    \n",
    "    if dist < sc[6][\"p\"]:\n",
    "        print(\"path too short\")\n",
    "    \n",
    "    out = copy.deepcopy(sc)\n",
    "    \n",
    "    # update coast stage (3) to fill up remaining time\n",
    "    out[3][\"dp\"] = dist - sc[6][\"p\"]\n",
    "    out[3][\"dt\"] = out[3][\"dp\"] / out[3][\"v\"]\n",
    "    for i in range(3,7):\n",
    "        out[i][\"p\"] = out[i-1][\"p\"] + out[i][\"dp\"]\n",
    "        out[i][\"t\"] = out[i-1][\"t\"] + out[i][\"dt\"]\n",
    "        \n",
    "    return out"
   ]
  },
  {
   "cell_type": "code",
   "execution_count": null,
   "id": "d56f3c72-445d-4340-8c88-eb98a0a14aaa",
   "metadata": {},
   "outputs": [],
   "source": [
    "out = full_s_curve(start, end)"
   ]
  },
  {
   "cell_type": "code",
   "execution_count": null,
   "id": "951b28e5-5cbf-46d2-83fd-1b43f38e95c0",
   "metadata": {},
   "outputs": [],
   "source": [
    "hv.Curve(pd.DataFrame(out), \"t\", \"v\") + hv.Curve(pd.DataFrame(out), \"t\", \"p\")"
   ]
  },
  {
   "cell_type": "code",
   "execution_count": null,
   "id": "97f6d83f-421c-407a-9332-26236b460d4d",
   "metadata": {},
   "outputs": [],
   "source": [
    "out[6]"
   ]
  },
  {
   "cell_type": "markdown",
   "id": "3925560b-0aa0-4179-9e6b-83424bc1f382",
   "metadata": {},
   "source": [
    "# Shorter?\n",
    "\n",
    "Ok that's great. But what happens if we want to go shorter than a full curve? The next version would be one with truncated full acceleration stages (1 and 5)"
   ]
  },
  {
   "cell_type": "markdown",
   "id": "7383d684-c703-4cd2-8be6-7b41d7cf2862",
   "metadata": {},
   "source": [
    "Make a medimum s curve"
   ]
  },
  {
   "cell_type": "markdown",
   "id": "90ea382f-c141-49f7-8af2-2b66221ac919",
   "metadata": {},
   "source": [
    "# Minimal Curve\n",
    "\n",
    "We first need to solve the constant jerk only version of the curve with no coasting or max accleration stages"
   ]
  },
  {
   "cell_type": "code",
   "execution_count": null,
   "id": "954c3c39-1e7b-4069-ae24-998a5e5dc76b",
   "metadata": {},
   "outputs": [],
   "source": [
    "sc_min = [{\"t\":0.0, \"v\":0.0, \"p\":0.0, \"dt\": 0.0, \"dv\": 0.0, \"dp\": 0.0} for i in range(4)]"
   ]
  },
  {
   "cell_type": "code",
   "execution_count": null,
   "id": "38ab6522-cc2c-4041-967b-3c32b34ad1b7",
   "metadata": {},
   "outputs": [],
   "source": [
    "# either max_jerk to max_acceleration or max_velocity\n",
    "sc_min[0][\"dt\"] = sc_min[0][\"t\"] = min(ic(max_acceleration / max_jerk), ic(np.sqrt(max_velocity * 2 / max_jerk)))\n",
    "sc_min[0][\"dv\"] = sc_min[0][\"v\"] = max_jerk * sc_min[0][\"t\"] ** 2 / 2\n",
    "sc_min[0][\"dp\"] = sc_min[0][\"p\"] = max_jerk * sc_min[0][\"t\"] ** 3 / 6\n",
    "ic(sc_min[0])"
   ]
  },
  {
   "cell_type": "code",
   "execution_count": null,
   "id": "fb370a57-b908-406f-8ced-145549e9a551",
   "metadata": {},
   "outputs": [],
   "source": [
    "# dt is the same for all sc_min segments\n",
    "for i in range(1,4):\n",
    "    sc_min[i][\"dt\"] = sc_min[0][\"dt\"]\n",
    "\n",
    "# dv changes sign\n",
    "sc_min[1][\"dv\"] = sc_min[0][\"dv\"]\n",
    "sc_min[2][\"dv\"] = sc_min[3][\"dv\"] = -sc_min[0][\"dv\"]\n",
    "\n",
    "# add up dv and dt to get v and t\n",
    "for i in range(1,4):\n",
    "    sc_min[i][\"v\"] = sc_min[i - 1][\"v\"] + sc_min[i][\"dv\"]\n",
    "    sc_min[i][\"t\"] = sc_min[i - 1][\"t\"] + sc_min[i][\"dt\"]\n",
    "\n",
    "# compute values of dp\n",
    "\n",
    "# stage 1 dp\n",
    "# j = -max_jerk\n",
    "# a = max_acceleration - max_jerk * t\n",
    "# v = sc_min[0][\"v\"] + max_acceleration * t - 1 / 2 *max_jerk * t ** 2\n",
    "# p = sc_min[0][\"p\"] + sc_min[0][\"v\"] * t + 1/2 * max_acceleration * t ** 2 - 1/6 * max_jerk * t ** 3\n",
    "\n",
    "sc_min[1][\"dp\"] = sc_min[0][\"v\"] * sc_min[1][\"dt\"] + 1 / 2 * max_acceleration * sc_min[1][\"dt\"] ** 2 - 1 / 6 * max_jerk * sc_min[1][\"dt\"] ** 3\n",
    "\n",
    "# stage 2 dp\n",
    "# j = -max_jerk\n",
    "# a = -max_jerk * t\n",
    "# v = sc[1][\"v\"] - 1 / 2 * max_jerk * t ** 2\n",
    "# p = sc[1][\"p\"] + sc[1][\"v\"] * t - 1 / 6 * max_jerk * t ** 3\n",
    "\n",
    "sc_min[2][\"dp\"] = sc_min[1][\"v\"] * sc_min[2][\"dt\"] - 1 / 6 * max_jerk * sc_min[2][\"dt\"] ** 3\n",
    "\n",
    "sc_min[3][\"dp\"] = sc_min[2][\"v\"] * sc_min[3][\"dt\"] - 1 / 2 * max_acceleration * sc_min[3][\"dt\"] ** 2 + 1 / 6 * max_jerk * sc_min[3][\"dt\"] ** 3\n",
    "\n",
    "\n",
    "for i in range(1, 4):\n",
    "    sc_min[i][\"p\"] = sc_min[i - 1][\"p\"] + sc_min[i][\"dp\"]\n",
    "\n",
    "ic(sc_min)"
   ]
  },
  {
   "cell_type": "code",
   "execution_count": null,
   "id": "afc7cfaa-f2cf-424d-a56b-7fd0be1baf4c",
   "metadata": {},
   "outputs": [],
   "source": [
    "hv.Curve(sc_min, \"t\", \"v\") + hv.Curve(sc_min, \"t\", \"p\")"
   ]
  },
  {
   "cell_type": "markdown",
   "id": "3bfa160c-ccb0-4231-92e5-f2d22a3dadf9",
   "metadata": {},
   "source": [
    "# Sanity check minimal curve"
   ]
  },
  {
   "cell_type": "code",
   "execution_count": null,
   "id": "a929979d-552e-451b-9851-c6e24c6bcfe0",
   "metadata": {},
   "outputs": [],
   "source": [
    "# section 0\n",
    "dt = 0.00001\n",
    "state = {\n",
    "    \"t\": 0,\n",
    "    \"v\": 0,\n",
    "    \"a\": 0,\n",
    "    \"p\": 0\n",
    "}\n",
    "min_hist = [state.copy()]\n",
    "while True:\n",
    "    state[\"t\"] += dt\n",
    "    state[\"a\"] += max_jerk * dt\n",
    "    state[\"v\"] += state[\"a\"] * dt\n",
    "    state[\"p\"] += state[\"v\"] * dt\n",
    "    min_hist.append(state.copy())\n",
    "    if state[\"t\"] >= sc_min[0][\"t\"]:\n",
    "        break\n",
    "\n",
    "ic(min_hist[-1])\n",
    "ic(sc_min[0])\n",
    "ic(sc_min[0][\"p\"] - min_hist[-1][\"p\"])"
   ]
  },
  {
   "cell_type": "code",
   "execution_count": null,
   "id": "6928bda2-8398-4f12-98ba-3f758d456e10",
   "metadata": {},
   "outputs": [],
   "source": [
    "# section 1\n",
    "state = {\n",
    "    \"t\": sc_min[0][\"t\"],\n",
    "    \"v\": sc_min[0][\"v\"],\n",
    "    \"a\": max_acceleration,\n",
    "    \"p\": sc_min[0][\"p\"]\n",
    "}\n",
    "while True:\n",
    "    state[\"t\"] += dt\n",
    "    state[\"a\"] += -max_jerk * dt\n",
    "    state[\"v\"] += state[\"a\"] * dt\n",
    "    state[\"p\"] += state[\"v\"] * dt\n",
    "    min_hist.append(state.copy())\n",
    "    if state[\"t\"] >= sc_min[1][\"t\"]:\n",
    "        break\n",
    "\n",
    "ic(min_hist[-1])\n",
    "ic(sc_min[1])\n",
    "ic(sc_min[1][\"p\"] - min_hist[-1][\"p\"])"
   ]
  },
  {
   "cell_type": "code",
   "execution_count": null,
   "id": "9d764fbb-ef32-4b9a-a44b-a8141ed7ef02",
   "metadata": {},
   "outputs": [],
   "source": [
    "# section 2\n",
    "state = {\n",
    "    \"t\": sc_min[1][\"t\"],\n",
    "    \"v\": sc_min[1][\"v\"],\n",
    "    \"a\": 0,\n",
    "    \"p\": sc_min[1][\"p\"]\n",
    "}\n",
    "while True:\n",
    "    state[\"t\"] += dt\n",
    "    state[\"a\"] -= max_jerk * dt\n",
    "    state[\"v\"] += state[\"a\"] * dt\n",
    "    state[\"p\"] += state[\"v\"] * dt\n",
    "    min_hist.append(state.copy())\n",
    "    if state[\"t\"] >= sc_min[2][\"t\"]:\n",
    "        break\n",
    "\n",
    "ic(min_hist[-1])\n",
    "ic(sc_min[2])\n",
    "ic(sc_min[2][\"p\"] - min_hist[-1][\"p\"])"
   ]
  },
  {
   "cell_type": "code",
   "execution_count": null,
   "id": "ae5bfa7a-9262-48ad-87f0-1e605f53b1ef",
   "metadata": {},
   "outputs": [],
   "source": [
    "# section 3\n",
    "state = {\n",
    "    \"t\": sc_min[2][\"t\"],\n",
    "    \"v\": sc_min[2][\"v\"],\n",
    "    \"a\": -max_acceleration,\n",
    "    \"p\": sc_min[2][\"p\"]\n",
    "}\n",
    "while True:\n",
    "    state[\"t\"] += dt\n",
    "    state[\"a\"] += max_jerk * dt\n",
    "    state[\"v\"] += state[\"a\"] * dt\n",
    "    state[\"p\"] += state[\"v\"] * dt\n",
    "    min_hist.append(state.copy())\n",
    "    if state[\"t\"] >= sc_min[3][\"t\"]:\n",
    "        break\n",
    "\n",
    "ic(min_hist[-1])\n",
    "ic(sc_min[3])\n",
    "ic(sc_min[3][\"p\"] - min_hist[-1][\"p\"])"
   ]
  },
  {
   "cell_type": "code",
   "execution_count": null,
   "id": "369b5542-4bca-4490-9504-4287ff5f8890",
   "metadata": {},
   "outputs": [],
   "source": [
    "hv.Curve(min_hist, \"t\", \"v\") + hv.Curve(min_hist, \"t\", \"p\")"
   ]
  },
  {
   "cell_type": "code",
   "execution_count": null,
   "id": "6f82e2ad-1765-43cf-b7ac-ce710f9a734b",
   "metadata": {},
   "outputs": [],
   "source": [
    "start = np.array([15.0, 20.0]).reshape(1,2)\n",
    "end = np.array([0.0, 0.0]).reshape(1,2)"
   ]
  },
  {
   "cell_type": "code",
   "execution_count": null,
   "id": "45902065-2fe0-4734-9258-72eb53e42df6",
   "metadata": {},
   "outputs": [],
   "source": [
    "dist = np.linalg.norm(start - end)"
   ]
  },
  {
   "cell_type": "code",
   "execution_count": null,
   "id": "4f63939b-0614-43dd-b3e4-f119647ec38f",
   "metadata": {},
   "outputs": [],
   "source": [
    "upper_thresh = sc[6][\"p\"]\n",
    "lower_thresh = sc[0][\"dp\"] * 4"
   ]
  },
  {
   "cell_type": "code",
   "execution_count": null,
   "id": "e3cb33ea-b5af-4037-83a5-adf389b533d2",
   "metadata": {},
   "outputs": [],
   "source": [
    "if dist > sc[6][\"p\"] || dist < "
   ]
  },
  {
   "cell_type": "code",
   "execution_count": null,
   "id": "f3637c4b-53a1-4f31-b89c-e37877bee36f",
   "metadata": {},
   "outputs": [],
   "source": []
  }
 ],
 "metadata": {
  "kernelspec": {
   "display_name": "Python 3 (ipykernel)",
   "language": "python",
   "name": "python3"
  },
  "language_info": {
   "codemirror_mode": {
    "name": "ipython",
    "version": 3
   },
   "file_extension": ".py",
   "mimetype": "text/x-python",
   "name": "python",
   "nbconvert_exporter": "python",
   "pygments_lexer": "ipython3",
   "version": "3.11.8"
  }
 },
 "nbformat": 4,
 "nbformat_minor": 5
}
