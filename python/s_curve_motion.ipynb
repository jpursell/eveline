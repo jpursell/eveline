{
 "cells": [
  {
   "cell_type": "markdown",
   "id": "2cc0685c-c21f-432f-8b1f-fda0faa42d89",
   "metadata": {},
   "source": [
    "https://youtu.be/0ZqeBEa_MWo?si=euGFINmBNnY8qPbn&t=149"
   ]
  },
  {
   "cell_type": "code",
   "execution_count": null,
   "id": "282ca4df-8ada-4212-a972-87f9687593d6",
   "metadata": {},
   "outputs": [],
   "source": [
    "import holoviews as hv\n",
    "import numpy as np\n",
    "import pandas as pd\n",
    "from icecream import ic"
   ]
  },
  {
   "cell_type": "code",
   "execution_count": null,
   "id": "063942bb-021c-44a7-9d85-64ec0a9e7e77",
   "metadata": {},
   "outputs": [],
   "source": [
    "hv.extension(\"bokeh\")"
   ]
  },
  {
   "cell_type": "code",
   "execution_count": null,
   "id": "dd0fbea7-875c-4dad-8e20-7d6511441e0f",
   "metadata": {},
   "outputs": [],
   "source": [
    "spool_radius = 5.75\n",
    "gear_ratio = (59.0 / 17.0) ** 2\n",
    "STEP_DIVISION = 1\n",
    "motor_steps_per_revolution = 100 * STEP_DIVISION\n",
    "spool_circumfrence = spool_radius * 2 * np.pi\n",
    "ic(spool_circumfrence)\n",
    "steps_per_mm = motor_steps_per_revolution * gear_ratio / spool_circumfrence\n",
    "ic(steps_per_mm)\n",
    "max_rpm = 100.0\n",
    "max_revs_per_second = max_rpm / 60.0\n",
    "max_steps_per_second = max_revs_per_second * motor_steps_per_revolution\n",
    "ic(max_steps_per_second)\n",
    "max_velocity = max_steps_per_second / steps_per_mm\n",
    "ic(max_velocity)\n",
    "max_acceleration = 1.0\n",
    "max_jerk = 1.0"
   ]
  },
  {
   "cell_type": "markdown",
   "id": "6e81657d-5e8b-4b7b-b29f-a6f9ecbd9661",
   "metadata": {},
   "source": [
    "# Constant Jerk\n",
    "\n",
    "Reach maximum acceleration\n",
    "\n",
    "acceleration = max_jerk * t\n",
    "\n",
    "velocity = 0.5 * max_jerk * t ** 2\n",
    "\n",
    "t_max_jerk_2 = sqrt(velocity * 2 / max_jerk)"
   ]
  },
  {
   "cell_type": "code",
   "execution_count": null,
   "id": "759a4cd9-7318-41af-8c4f-9346d18721de",
   "metadata": {},
   "outputs": [],
   "source": [
    "t_max_jerk = ic(max_acceleration / max_jerk)\n",
    "t_max_jerk_2 = ic(np.sqrt(max_velocity * 2 / max_jerk))\n",
    "t_max_jerk = min(t_max_jerk, t_max_jerk_2)"
   ]
  },
  {
   "cell_type": "markdown",
   "id": "5ef57ae1-261a-4b69-9f2e-665c54e59eb6",
   "metadata": {},
   "source": [
    "# Constant Acceleration\n",
    "\n",
    "Reach maximum acceleration\n",
    "\n",
    "delta_acc = t_max_jerk * max_jerk"
   ]
  },
  {
   "cell_type": "code",
   "execution_count": null,
   "id": "4370ed7c-0023-4c10-b597-3e01ce25141d",
   "metadata": {},
   "outputs": [],
   "source": [
    "delta_vel = ic(max_velocity) - ic(0.5 * max_jerk * t_max_jerk ** 2)\n",
    "ic(delta_vel)\n",
    "t_max_vel = delta_vel / max_acceleration\n",
    "ic(t_max_vel)"
   ]
  },
  {
   "cell_type": "code",
   "execution_count": null,
   "id": "01793adc-c3d9-450e-8dbf-9f67ce8ee6e7",
   "metadata": {},
   "outputs": [],
   "source": [
    "start = np.array([150.0, 200.0]).reshape(1,2)\n",
    "end = np.array([0.0, 0.0]).reshape(1,2)"
   ]
  },
  {
   "cell_type": "code",
   "execution_count": null,
   "id": "9d06fdda-2250-450f-801f-07a7d5a0b179",
   "metadata": {},
   "outputs": [],
   "source": [
    "def s_curve(T, dt):\n",
    "    coefs = [0.0, 0.0, 0.0, 10/T**3, -15/T**4, 6/T**5]\n",
    "    t = np.arange(0, T + dt, dt)\n",
    "    s = coefs[3] * t ** 3 + coefs[4] * t ** 4 + coefs[5] * t ** 5\n",
    "    s = s.reshape(len(s), 1)\n",
    "    return t, s"
   ]
  },
  {
   "cell_type": "code",
   "execution_count": null,
   "id": "4ffeb8f6-03e3-45e3-9a6d-fba65cdcbcb4",
   "metadata": {},
   "outputs": [],
   "source": [
    "def motion_curve(start, end, T, dt):\n",
    "    (t, s) = s_curve(T, dt)\n",
    "    position = start + s @ (end - start)\n",
    "    return t, position"
   ]
  },
  {
   "cell_type": "code",
   "execution_count": null,
   "id": "2db6b1ae-8121-416e-9994-b81904d5225c",
   "metadata": {},
   "outputs": [],
   "source": [
    "def higher_curves(dt, position):\n",
    "    velocity = np.diff(position, axis=0) / dt\n",
    "    acceleration = np.diff(velocity, axis=0) / dt\n",
    "    jerk = np.diff(acceleration, axis=0) / dt\n",
    "    return velocity, acceleration, jerk"
   ]
  },
  {
   "cell_type": "code",
   "execution_count": null,
   "id": "5707db0e-9cfb-4aff-a0a3-408ac8139f38",
   "metadata": {},
   "outputs": [],
   "source": [
    "def abs_curve(curve):\n",
    "    return np.linalg.norm(curve, axis=1)"
   ]
  },
  {
   "cell_type": "code",
   "execution_count": null,
   "id": "abc06489-a5b8-403d-af32-4e5ccd998ff2",
   "metadata": {},
   "outputs": [],
   "source": [
    "def compute_scaling(dt, position, max_velocity, max_acceleration, max_jerk):\n",
    "    vel, acc, jerk = higher_curves(dt, position)\n",
    "    vel_scaling = ic(ic(abs_curve(vel).max()) / max_velocity)\n",
    "    acc_scaling = ic((ic(abs_curve(acc).max()) / max_acceleration)**(1/2))\n",
    "    jerk_scaling = ic((ic(abs_curve(jerk).max()) / max_jerk) ** (1/3))\n",
    "    return np.max([vel_scaling, acc_scaling, jerk_scaling])"
   ]
  },
  {
   "cell_type": "code",
   "execution_count": null,
   "id": "34c9697b-ee87-4cc0-8e79-51422f186d6e",
   "metadata": {},
   "outputs": [],
   "source": [
    "dt = 0.01\n",
    "t, position = motion_curve(start, end, 1, dt)\n",
    "scaling = compute_scaling(dt, position, max_velocity, max_acceleration, max_jerk)\n",
    "ic(scaling)"
   ]
  },
  {
   "cell_type": "code",
   "execution_count": null,
   "id": "0cc50bd1-d2ba-424e-aabb-6436cabf2077",
   "metadata": {},
   "outputs": [],
   "source": [
    "t, position = motion_curve(start, end, scaling, dt)\n",
    "vel, acc, jerk = higher_curves(dt, position)"
   ]
  },
  {
   "cell_type": "code",
   "execution_count": null,
   "id": "d4e43be2-9053-4248-987b-6d4813b5ad79",
   "metadata": {},
   "outputs": [],
   "source": [
    "hv.Curve(zip(t, abs_curve(vel)), \"t\", \"vel\") + hv.Curve(zip(t, abs_curve(acc)), \"t\", \"acc\") + hv.Curve(zip(t, abs_curve(jerk)), \"t\", \"jerk\")"
   ]
  },
  {
   "cell_type": "code",
   "execution_count": null,
   "id": "af29a7e5-a4c2-454c-b7ae-64a2181ac50e",
   "metadata": {},
   "outputs": [],
   "source": []
  }
 ],
 "metadata": {
  "kernelspec": {
   "display_name": "Python 3 (ipykernel)",
   "language": "python",
   "name": "python3"
  },
  "language_info": {
   "codemirror_mode": {
    "name": "ipython",
    "version": 3
   },
   "file_extension": ".py",
   "mimetype": "text/x-python",
   "name": "python",
   "nbconvert_exporter": "python",
   "pygments_lexer": "ipython3",
   "version": "3.11.8"
  }
 },
 "nbformat": 4,
 "nbformat_minor": 5
}
