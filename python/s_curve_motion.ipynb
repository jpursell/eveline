{
 "cells": [
  {
   "cell_type": "markdown",
   "id": "2cc0685c-c21f-432f-8b1f-fda0faa42d89",
   "metadata": {},
   "source": [
    "https://youtu.be/0ZqeBEa_MWo?si=euGFINmBNnY8qPbn&t=149"
   ]
  },
  {
   "cell_type": "code",
   "execution_count": null,
   "id": "282ca4df-8ada-4212-a972-87f9687593d6",
   "metadata": {},
   "outputs": [],
   "source": [
    "import copy\n",
    "\n",
    "import holoviews as hv\n",
    "import numpy as np\n",
    "import pandas as pd\n",
    "from icecream import ic"
   ]
  },
  {
   "cell_type": "code",
   "execution_count": null,
   "id": "063942bb-021c-44a7-9d85-64ec0a9e7e77",
   "metadata": {},
   "outputs": [],
   "source": [
    "hv.extension(\"bokeh\")"
   ]
  },
  {
   "cell_type": "code",
   "execution_count": null,
   "id": "dd0fbea7-875c-4dad-8e20-7d6511441e0f",
   "metadata": {},
   "outputs": [],
   "source": [
    "spool_radius = 5.75\n",
    "gear_ratio = (59.0 / 17.0) ** 2\n",
    "STEP_DIVISION = 1\n",
    "motor_steps_per_revolution = 100 * STEP_DIVISION\n",
    "spool_circumfrence = spool_radius * 2 * np.pi\n",
    "ic(spool_circumfrence)\n",
    "steps_per_mm = motor_steps_per_revolution * gear_ratio / spool_circumfrence\n",
    "ic(steps_per_mm)\n",
    "max_rpm = 100.0\n",
    "max_revs_per_second = max_rpm / 60.0\n",
    "max_steps_per_second = max_revs_per_second * motor_steps_per_revolution\n",
    "ic(max_steps_per_second)\n",
    "max_velocity = max_steps_per_second / steps_per_mm\n",
    "ic(max_velocity)\n",
    "max_acceleration = 1.0\n",
    "max_jerk = 1.0"
   ]
  },
  {
   "cell_type": "code",
   "execution_count": null,
   "id": "793047a9-37f4-4b97-86d4-941f3dcf637f",
   "metadata": {},
   "outputs": [],
   "source": [
    "def s_curve(max_d):\n",
    "    \"\"\"Solve minimal s curve that hits parameters\n",
    "\n",
    "    max_d: [0: max_velocity, 1: max_acceleration, 2: max_jerk]\n",
    "    \"\"\"\n",
    "    nd = len(max_d)\n",
    "    assert nd == 3\n",
    "    ns = 7\n",
    "    # x [0: positions, 1: velocity, 2: acceleration, 3: jerk]\n",
    "    sc = [{\"t\":0.0, \"dt\": 0.0, \"x\": np.zeros(nd + 1), \"dx\": np.zeros(nd + 1)} for i in range(ns)]\n",
    "    jerk_stage_sign = [1, 0, -1, 0, -1, 0, 1]\n",
    "    coast_stage = 3\n",
    "\n",
    "    dt_jerk = min(max_d[1] / max_d[2], np.sqrt(max_d[0] * 2 / max_d[2]))\n",
    "    dv_jerk = 1 / 2 * max_d[2] * dt_jerk ** 2\n",
    "    dt_acceleration = (max_d[0] - dv_jerk * 2) / max_d[1]\n",
    "\n",
    "    for(i, dt) in enumerate([dt_jerk, dt_acceleration, dt_jerk, 0.0, dt_jerk, dt_acceleration, dt_jerk]):\n",
    "        sc[i][\"dt\"] = dt\n",
    "        if i == 0:\n",
    "            t_prev = 0\n",
    "        else:\n",
    "            t_prev = sc[i - 1][\"t\"]\n",
    "        sc[i][\"t\"] = t_prev + sc[i][\"dt\"]\n",
    "    \n",
    "    for i in range(ns):\n",
    "        if i == 0:\n",
    "            x_prev = [0.0 for _ in range(nd + 1)]\n",
    "        else:\n",
    "            x_prev = sc[i - 1][\"x\"]\n",
    "        # set d_jerk\n",
    "        sc[i][\"dx\"][3] = max_d[2] * jerk_stage_sign[i]\n",
    "        # set d_acceleration\n",
    "        sc[i][\"dx\"][2] = sc[i][\"dx\"][3] * sc[i][\"dt\"]\n",
    "        # set d_velocity\n",
    "        sc[i][\"dx\"][1] = x_prev[2] * sc[i][\"dt\"] + 1 / 2 * sc[i][\"dx\"][3] * sc[i][\"dt\"] ** 2\n",
    "        # set d_position\n",
    "        sc[i][\"dx\"][0] = x_prev[1] * sc[i][\"dt\"] + 1 / 2 * x_prev[2] * sc[i][\"dt\"] ** 2 + 1 / 6 * sc[i][\"dx\"][3] * sc[i][\"dt\"] ** 3\n",
    "        # set x\n",
    "        sc[i][\"x\"] = x_prev + sc[i][\"dx\"]\n",
    "    return sc\n",
    "    # todo: use this to generate both full curve and minimal, 4 stage curve\n",
    "    # make sanity check function"
   ]
  },
  {
   "cell_type": "code",
   "execution_count": null,
   "id": "0e836e06-3aca-485e-b7dd-7886e1957491",
   "metadata": {},
   "outputs": [],
   "source": [
    "def s_curve_long(sc, dt):\n",
    "    # x [0: positions, 1: velocity, 2: acceleration, 3: jerk]\n",
    "    nx = len(sc[0][\"x\"])\n",
    "    state = {\"t\": 0.0, \"x\": np.zeros(nx), \"p\": 0.0, \"v\": 0.0, \"a\": 0.0, \"j\": 0.0}\n",
    "    curve = [state.copy()]\n",
    "    for i in range(len(sc)):\n",
    "        if i > 0:\n",
    "            state[\"x\"] = sc[i - 1][\"x\"].copy()\n",
    "        while state[\"t\"] < sc[i][\"t\"]:\n",
    "            state[\"t\"] += dt\n",
    "            state[\"x\"][2] += sc[i][\"dx\"][3] * dt\n",
    "            state[\"x\"][1] += state[\"x\"][2] * dt\n",
    "            state[\"x\"][0] += state[\"x\"][1] * dt\n",
    "            state[\"p\"] = state[\"x\"][0]\n",
    "            state[\"v\"] = state[\"x\"][1]\n",
    "            state[\"a\"] = state[\"x\"][2]\n",
    "            state[\"j\"] = state[\"x\"][3]\n",
    "            curve.append(state.copy())\n",
    "        error = np.abs(state[\"x\"][0] - sc[i][\"x\"][0])\n",
    "        assert error / dt < 10\n",
    "    \n",
    "    return curve"
   ]
  },
  {
   "cell_type": "code",
   "execution_count": null,
   "id": "eba8e47e-0127-44fd-9768-39261e89682e",
   "metadata": {},
   "outputs": [],
   "source": [
    "sc_f = s_curve([max_velocity, max_acceleration, max_jerk])"
   ]
  },
  {
   "cell_type": "code",
   "execution_count": null,
   "id": "3228c6e7-cb4a-46e9-91b4-c7c1330d1aa0",
   "metadata": {},
   "outputs": [],
   "source": [
    "sc_long = s_curve_long(sc_f, 0.001)"
   ]
  },
  {
   "cell_type": "code",
   "execution_count": null,
   "id": "843413b8-c08b-498d-84c5-349fcdd0d8ba",
   "metadata": {},
   "outputs": [],
   "source": [
    "hv.Curve(sc_long, \"t\", \"p\") + hv.Curve(sc_long, \"t\", \"v\") + hv.Curve(sc_long, \"t\", \"a\") + hv.Curve(sc_long, \"t\", \"j\")"
   ]
  },
  {
   "cell_type": "code",
   "execution_count": null,
   "id": "01793adc-c3d9-450e-8dbf-9f67ce8ee6e7",
   "metadata": {},
   "outputs": [],
   "source": [
    "start = np.array([150.0, 200.0]).reshape(1,2)\n",
    "end = np.array([0.0, 0.0]).reshape(1,2)"
   ]
  },
  {
   "cell_type": "code",
   "execution_count": null,
   "id": "f8a312c5-1854-457e-92d9-5faed3340562",
   "metadata": {},
   "outputs": [],
   "source": [
    "def full_s_curve(start, end):\n",
    "    \"\"\"Solve for full s-curve and ignore joint constraints\"\"\"\n",
    "    \n",
    "    dist = np.linalg.norm(start - end)\n",
    "    \n",
    "    if dist < sc[6][\"p\"]:\n",
    "        print(\"path too short\")\n",
    "    \n",
    "    out = copy.deepcopy(sc)\n",
    "    \n",
    "    # update coast stage (3) to fill up remaining time\n",
    "    out[3][\"dp\"] = dist - sc[6][\"p\"]\n",
    "    out[3][\"dt\"] = out[3][\"dp\"] / out[3][\"v\"]\n",
    "    for i in range(3,7):\n",
    "        out[i][\"p\"] = out[i-1][\"p\"] + out[i][\"dp\"]\n",
    "        out[i][\"t\"] = out[i-1][\"t\"] + out[i][\"dt\"]\n",
    "        \n",
    "    return out"
   ]
  },
  {
   "cell_type": "code",
   "execution_count": null,
   "id": "d56f3c72-445d-4340-8c88-eb98a0a14aaa",
   "metadata": {},
   "outputs": [],
   "source": [
    "out = full_s_curve(start, end)"
   ]
  },
  {
   "cell_type": "code",
   "execution_count": null,
   "id": "951b28e5-5cbf-46d2-83fd-1b43f38e95c0",
   "metadata": {},
   "outputs": [],
   "source": [
    "hv.Curve(pd.DataFrame(out), \"t\", \"v\") + hv.Curve(pd.DataFrame(out), \"t\", \"p\")"
   ]
  },
  {
   "cell_type": "markdown",
   "id": "3925560b-0aa0-4179-9e6b-83424bc1f382",
   "metadata": {},
   "source": [
    "# Shorter?\n",
    "\n",
    "Ok that's great. But what happens if we want to go shorter than a full curve? The next version would be one with truncated full acceleration stages (1 and 5)"
   ]
  },
  {
   "cell_type": "markdown",
   "id": "7383d684-c703-4cd2-8be6-7b41d7cf2862",
   "metadata": {},
   "source": [
    "Make a medimum s curve"
   ]
  },
  {
   "cell_type": "markdown",
   "id": "90ea382f-c141-49f7-8af2-2b66221ac919",
   "metadata": {},
   "source": [
    "# Minimal Curve\n",
    "\n",
    "We first need to solve the constant jerk only version of the curve with no coasting or max accleration stages"
   ]
  },
  {
   "cell_type": "code",
   "execution_count": null,
   "id": "954c3c39-1e7b-4069-ae24-998a5e5dc76b",
   "metadata": {},
   "outputs": [],
   "source": [
    "sc_min = [{\"t\":0.0, \"v\":0.0, \"p\":0.0, \"dt\": 0.0, \"dv\": 0.0, \"dp\": 0.0} for i in range(4)]"
   ]
  },
  {
   "cell_type": "code",
   "execution_count": null,
   "id": "38ab6522-cc2c-4041-967b-3c32b34ad1b7",
   "metadata": {},
   "outputs": [],
   "source": [
    "# either max_jerk to max_acceleration or max_velocity\n",
    "sc_min[0][\"dt\"] = sc_min[0][\"t\"] = min(ic(max_acceleration / max_jerk), ic(np.sqrt(max_velocity * 2 / max_jerk)))\n",
    "sc_min[0][\"dv\"] = sc_min[0][\"v\"] = max_jerk * sc_min[0][\"t\"] ** 2 / 2\n",
    "sc_min[0][\"dp\"] = sc_min[0][\"p\"] = max_jerk * sc_min[0][\"t\"] ** 3 / 6\n",
    "ic(sc_min[0])"
   ]
  },
  {
   "cell_type": "code",
   "execution_count": null,
   "id": "fb370a57-b908-406f-8ced-145549e9a551",
   "metadata": {},
   "outputs": [],
   "source": [
    "# dt is the same for all sc_min segments\n",
    "for i in range(1,4):\n",
    "    sc_min[i][\"dt\"] = sc_min[0][\"dt\"]\n",
    "\n",
    "# dv changes sign\n",
    "sc_min[1][\"dv\"] = sc_min[0][\"dv\"]\n",
    "sc_min[2][\"dv\"] = sc_min[3][\"dv\"] = -sc_min[0][\"dv\"]\n",
    "\n",
    "# add up dv and dt to get v and t\n",
    "for i in range(1,4):\n",
    "    sc_min[i][\"v\"] = sc_min[i - 1][\"v\"] + sc_min[i][\"dv\"]\n",
    "    sc_min[i][\"t\"] = sc_min[i - 1][\"t\"] + sc_min[i][\"dt\"]\n",
    "\n",
    "# compute values of dp\n",
    "\n",
    "# stage 1 dp\n",
    "# j = -max_jerk\n",
    "# a = max_acceleration - max_jerk * t\n",
    "# v = sc_min[0][\"v\"] + max_acceleration * t - 1 / 2 *max_jerk * t ** 2\n",
    "# p = sc_min[0][\"p\"] + sc_min[0][\"v\"] * t + 1/2 * max_acceleration * t ** 2 - 1/6 * max_jerk * t ** 3\n",
    "\n",
    "sc_min[1][\"dp\"] = sc_min[0][\"v\"] * sc_min[1][\"dt\"] + 1 / 2 * max_acceleration * sc_min[1][\"dt\"] ** 2 - 1 / 6 * max_jerk * sc_min[1][\"dt\"] ** 3\n",
    "\n",
    "# stage 2 dp\n",
    "# j = -max_jerk\n",
    "# a = -max_jerk * t\n",
    "# v = sc[1][\"v\"] - 1 / 2 * max_jerk * t ** 2\n",
    "# p = sc[1][\"p\"] + sc[1][\"v\"] * t - 1 / 6 * max_jerk * t ** 3\n",
    "\n",
    "sc_min[2][\"dp\"] = sc_min[1][\"v\"] * sc_min[2][\"dt\"] - 1 / 6 * max_jerk * sc_min[2][\"dt\"] ** 3\n",
    "\n",
    "sc_min[3][\"dp\"] = sc_min[2][\"v\"] * sc_min[3][\"dt\"] - 1 / 2 * max_acceleration * sc_min[3][\"dt\"] ** 2 + 1 / 6 * max_jerk * sc_min[3][\"dt\"] ** 3\n",
    "\n",
    "\n",
    "for i in range(1, 4):\n",
    "    sc_min[i][\"p\"] = sc_min[i - 1][\"p\"] + sc_min[i][\"dp\"]\n",
    "\n",
    "ic(sc_min)"
   ]
  },
  {
   "cell_type": "code",
   "execution_count": null,
   "id": "afc7cfaa-f2cf-424d-a56b-7fd0be1baf4c",
   "metadata": {},
   "outputs": [],
   "source": [
    "hv.Curve(sc_min, \"t\", \"v\") + hv.Curve(sc_min, \"t\", \"p\")"
   ]
  },
  {
   "cell_type": "markdown",
   "id": "3bfa160c-ccb0-4231-92e5-f2d22a3dadf9",
   "metadata": {},
   "source": [
    "# Sanity check minimal curve"
   ]
  },
  {
   "cell_type": "code",
   "execution_count": null,
   "id": "a929979d-552e-451b-9851-c6e24c6bcfe0",
   "metadata": {},
   "outputs": [],
   "source": [
    "# section 0\n",
    "dt = 0.00001\n",
    "state = {\n",
    "    \"t\": 0,\n",
    "    \"v\": 0,\n",
    "    \"a\": 0,\n",
    "    \"p\": 0\n",
    "}\n",
    "min_hist = [state.copy()]\n",
    "while True:\n",
    "    state[\"t\"] += dt\n",
    "    state[\"a\"] += max_jerk * dt\n",
    "    state[\"v\"] += state[\"a\"] * dt\n",
    "    state[\"p\"] += state[\"v\"] * dt\n",
    "    min_hist.append(state.copy())\n",
    "    if state[\"t\"] >= sc_min[0][\"t\"]:\n",
    "        break\n",
    "\n",
    "ic(min_hist[-1])\n",
    "ic(sc_min[0])\n",
    "ic(sc_min[0][\"p\"] - min_hist[-1][\"p\"])"
   ]
  },
  {
   "cell_type": "code",
   "execution_count": null,
   "id": "6928bda2-8398-4f12-98ba-3f758d456e10",
   "metadata": {},
   "outputs": [],
   "source": [
    "# section 1\n",
    "state = {\n",
    "    \"t\": sc_min[0][\"t\"],\n",
    "    \"v\": sc_min[0][\"v\"],\n",
    "    \"a\": max_acceleration,\n",
    "    \"p\": sc_min[0][\"p\"]\n",
    "}\n",
    "while True:\n",
    "    state[\"t\"] += dt\n",
    "    state[\"a\"] += -max_jerk * dt\n",
    "    state[\"v\"] += state[\"a\"] * dt\n",
    "    state[\"p\"] += state[\"v\"] * dt\n",
    "    min_hist.append(state.copy())\n",
    "    if state[\"t\"] >= sc_min[1][\"t\"]:\n",
    "        break\n",
    "\n",
    "ic(min_hist[-1])\n",
    "ic(sc_min[1])\n",
    "ic(sc_min[1][\"p\"] - min_hist[-1][\"p\"])"
   ]
  },
  {
   "cell_type": "code",
   "execution_count": null,
   "id": "9d764fbb-ef32-4b9a-a44b-a8141ed7ef02",
   "metadata": {},
   "outputs": [],
   "source": [
    "# section 2\n",
    "state = {\n",
    "    \"t\": sc_min[1][\"t\"],\n",
    "    \"v\": sc_min[1][\"v\"],\n",
    "    \"a\": 0,\n",
    "    \"p\": sc_min[1][\"p\"]\n",
    "}\n",
    "while True:\n",
    "    state[\"t\"] += dt\n",
    "    state[\"a\"] -= max_jerk * dt\n",
    "    state[\"v\"] += state[\"a\"] * dt\n",
    "    state[\"p\"] += state[\"v\"] * dt\n",
    "    min_hist.append(state.copy())\n",
    "    if state[\"t\"] >= sc_min[2][\"t\"]:\n",
    "        break\n",
    "\n",
    "ic(min_hist[-1])\n",
    "ic(sc_min[2])\n",
    "ic(sc_min[2][\"p\"] - min_hist[-1][\"p\"])"
   ]
  },
  {
   "cell_type": "code",
   "execution_count": null,
   "id": "ae5bfa7a-9262-48ad-87f0-1e605f53b1ef",
   "metadata": {},
   "outputs": [],
   "source": [
    "# section 3\n",
    "state = {\n",
    "    \"t\": sc_min[2][\"t\"],\n",
    "    \"v\": sc_min[2][\"v\"],\n",
    "    \"a\": -max_acceleration,\n",
    "    \"p\": sc_min[2][\"p\"]\n",
    "}\n",
    "while True:\n",
    "    state[\"t\"] += dt\n",
    "    state[\"a\"] += max_jerk * dt\n",
    "    state[\"v\"] += state[\"a\"] * dt\n",
    "    state[\"p\"] += state[\"v\"] * dt\n",
    "    min_hist.append(state.copy())\n",
    "    if state[\"t\"] >= sc_min[3][\"t\"]:\n",
    "        break\n",
    "\n",
    "ic(min_hist[-1])\n",
    "ic(sc_min[3])\n",
    "ic(sc_min[3][\"p\"] - min_hist[-1][\"p\"])"
   ]
  },
  {
   "cell_type": "code",
   "execution_count": null,
   "id": "369b5542-4bca-4490-9504-4287ff5f8890",
   "metadata": {},
   "outputs": [],
   "source": [
    "hv.Curve(min_hist, \"t\", \"v\") + hv.Curve(min_hist, \"t\", \"p\")"
   ]
  },
  {
   "cell_type": "code",
   "execution_count": null,
   "id": "6f82e2ad-1765-43cf-b7ac-ce710f9a734b",
   "metadata": {},
   "outputs": [],
   "source": [
    "start = np.array([15.0, 20.0]).reshape(1,2)\n",
    "end = np.array([0.0, 0.0]).reshape(1,2)"
   ]
  },
  {
   "cell_type": "code",
   "execution_count": null,
   "id": "45902065-2fe0-4734-9258-72eb53e42df6",
   "metadata": {},
   "outputs": [],
   "source": [
    "dist = np.linalg.norm(start - end)"
   ]
  },
  {
   "cell_type": "code",
   "execution_count": null,
   "id": "4f63939b-0614-43dd-b3e4-f119647ec38f",
   "metadata": {},
   "outputs": [],
   "source": [
    "upper_thresh = sc[6][\"p\"]\n",
    "lower_thresh = sc[0][\"dp\"] * 4"
   ]
  },
  {
   "cell_type": "code",
   "execution_count": null,
   "id": "e3cb33ea-b5af-4037-83a5-adf389b533d2",
   "metadata": {},
   "outputs": [],
   "source": [
    "if dist > sc[6][\"p\"] || dist < "
   ]
  },
  {
   "cell_type": "code",
   "execution_count": null,
   "id": "f3637c4b-53a1-4f31-b89c-e37877bee36f",
   "metadata": {},
   "outputs": [],
   "source": []
  }
 ],
 "metadata": {
  "kernelspec": {
   "display_name": "Python 3 (ipykernel)",
   "language": "python",
   "name": "python3"
  },
  "language_info": {
   "codemirror_mode": {
    "name": "ipython",
    "version": 3
   },
   "file_extension": ".py",
   "mimetype": "text/x-python",
   "name": "python",
   "nbconvert_exporter": "python",
   "pygments_lexer": "ipython3",
   "version": "3.11.8"
  }
 },
 "nbformat": 4,
 "nbformat_minor": 5
}
