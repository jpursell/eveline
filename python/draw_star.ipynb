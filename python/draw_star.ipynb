{
 "cells": [
  {
   "cell_type": "code",
   "execution_count": null,
   "id": "5fd82c93-d4ea-4531-bc47-748049e33483",
   "metadata": {},
   "outputs": [],
   "source": [
    "import holoviews as hv\n",
    "import numpy as np\n",
    "from icecream import ic"
   ]
  },
  {
   "cell_type": "code",
   "execution_count": null,
   "id": "ad9465cc-618c-4f8c-a591-feea1bbf818d",
   "metadata": {},
   "outputs": [],
   "source": [
    "hv.extension(\"bokeh\")"
   ]
  },
  {
   "cell_type": "code",
   "execution_count": null,
   "id": "52c027e2-ecbe-4ba4-b609-7ccab568fedf",
   "metadata": {},
   "outputs": [],
   "source": [
    "def rot(theta):\n",
    "    ct = np.cos(theta)\n",
    "    st = np.sin(theta)\n",
    "    return [[ct, -st],[st, ct]]"
   ]
  },
  {
   "cell_type": "code",
   "execution_count": null,
   "id": "2196c0bc-ec3e-4def-b694-793f29becf74",
   "metadata": {},
   "outputs": [],
   "source": [
    "n = 13\n",
    "p = [0, 0]\n",
    "r = 10\n",
    "hist = [p.copy()]\n",
    "d = [-1, -1]\n",
    "ang = 180 - 180 / n\n",
    "rot_mat = rot(np.radians(ang))\n",
    "for i in range(n):\n",
    "    d = np.dot(rot_mat, d)\n",
    "    p += d * r\n",
    "    hist.append(p.copy())\n",
    "\n",
    "ptr = 0\n",
    "for i in range(n):\n",
    "    ptr += 2\n",
    "    ptr %= n\n",
    "    hist.append(hist[ptr].copy())\n",
    "\n",
    "(\n",
    "    hv.Curve(hist) *\n",
    "    hv.Scatter(hist[:1]).opts(size=10, color=\"blue\") * \n",
    "    hv.Scatter(hist[-1:]).opts(size=5, color=\"red\"))"
   ]
  }
 ],
 "metadata": {
  "kernelspec": {
   "display_name": "Python 3 (ipykernel)",
   "language": "python",
   "name": "python3"
  },
  "language_info": {
   "codemirror_mode": {
    "name": "ipython",
    "version": 3
   },
   "file_extension": ".py",
   "mimetype": "text/x-python",
   "name": "python",
   "nbconvert_exporter": "python",
   "pygments_lexer": "ipython3",
   "version": "3.11.8"
  }
 },
 "nbformat": 4,
 "nbformat_minor": 5
}
