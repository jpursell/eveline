{
 "cells": [
  {
   "cell_type": "code",
   "execution_count": null,
   "id": "22a8a677-d808-41e5-8103-7b221c72bc00",
   "metadata": {},
   "outputs": [],
   "source": [
    "import sympy"
   ]
  },
  {
   "cell_type": "code",
   "execution_count": null,
   "id": "3aaf83ab-829a-4828-8dc0-3732d2c042dc",
   "metadata": {},
   "outputs": [],
   "source": [
    "r_m0, r_m1, x, y, x_m0, y_m0, x_m1, y_m1 = sympy.symbols(\"r_m0 r_m1 x y x_m0 y_m0 x_m1 y_m1\")"
   ]
  },
  {
   "cell_type": "code",
   "execution_count": null,
   "id": "fa381293-0429-4c8b-9d33-f82a666d1008",
   "metadata": {},
   "outputs": [],
   "source": [
    "s = sympy.solve([\n",
    "    -r_m0 ** 2 + (x - x_m0) ** 2 + (y - y_m0) ** 2,\n",
    "    - r_m1 ** 2 + (x - x_m1) ** 2 + (y - y_m1) ** 2],\n",
    "    [x, y], dict=True)"
   ]
  },
  {
   "cell_type": "code",
   "execution_count": null,
   "id": "69141173-382e-47ae-b7fa-3e77437a3fdf",
   "metadata": {},
   "outputs": [],
   "source": [
    "s"
   ]
  },
  {
   "cell_type": "code",
   "execution_count": null,
   "id": "b937bb72-1c91-4fa3-8da9-052c99e533a8",
   "metadata": {},
   "outputs": [],
   "source": [
    "s[0][x]"
   ]
  },
  {
   "cell_type": "code",
   "execution_count": null,
   "id": "fd1ec287-4992-420f-8ce4-97f7627783cd",
   "metadata": {},
   "outputs": [],
   "source": [
    "s[1][x]"
   ]
  },
  {
   "cell_type": "code",
   "execution_count": null,
   "id": "b4e3baba-00d3-41b3-8f04-2ca83b8b829e",
   "metadata": {},
   "outputs": [],
   "source": [
    "s[0][y]"
   ]
  },
  {
   "cell_type": "code",
   "execution_count": null,
   "id": "f2df7249-3955-4418-bce8-9aeb5a6949bc",
   "metadata": {},
   "outputs": [],
   "source": [
    "s[1][y]"
   ]
  },
  {
   "cell_type": "code",
   "execution_count": null,
   "id": "ed45fccd-38a8-4133-ad05-f5bf24695bef",
   "metadata": {},
   "outputs": [],
   "source": [
    "dict(a=1)"
   ]
  },
  {
   "cell_type": "code",
   "execution_count": null,
   "id": "385f79fd-8f4d-4dd2-be72-3838e0d4e61b",
   "metadata": {},
   "outputs": [],
   "source": [
    "d = dict(x_m0=0, y_m0=368.8, x_m1=297.0, y_m1=368.8)\n",
    "d"
   ]
  },
  {
   "cell_type": "code",
   "execution_count": null,
   "id": "0131b537-4ca1-42d8-a41d-9b30a1ce0b37",
   "metadata": {},
   "outputs": [],
   "source": [
    "[s[0][x].subs(d)]"
   ]
  },
  {
   "cell_type": "code",
   "execution_count": null,
   "id": "7a3f87b0-124f-4ae7-bc08-1e2f0c214c0c",
   "metadata": {},
   "outputs": [],
   "source": [
    "s[0][y].subs(d)"
   ]
  },
  {
   "cell_type": "code",
   "execution_count": null,
   "id": "27c95b9b-79e5-4d04-9402-fa013e45d240",
   "metadata": {},
   "outputs": [],
   "source": [
    "[s[1][x].subs(d)]"
   ]
  },
  {
   "cell_type": "code",
   "execution_count": null,
   "id": "b1e172f6-38f3-440d-8aff-72ce77066218",
   "metadata": {},
   "outputs": [],
   "source": [
    "s[1][y].subs(d)"
   ]
  },
  {
   "cell_type": "code",
   "execution_count": null,
   "id": "40e8cb4b-3558-41ca-83e7-97946c50446e",
   "metadata": {},
   "outputs": [],
   "source": [
    "s = sympy.solve([\n",
    "    (-r_m0 ** 2 + (x - x_m0) ** 2 + (y - y_m0) ** 2).subs(d),\n",
    "    (- r_m1 ** 2 + (x - x_m1) ** 2 + (y - y_m1) ** 2).subs(d)],\n",
    "    [x, y], dict=True)"
   ]
  },
  {
   "cell_type": "code",
   "execution_count": null,
   "id": "f2859f04-7ee7-4c57-be30-86ff868ed9c1",
   "metadata": {},
   "outputs": [],
   "source": [
    "\n",
    "s"
   ]
  },
  {
   "cell_type": "code",
   "execution_count": null,
   "id": "c2a0da8f-ad02-467a-9b72-f83d579d6329",
   "metadata": {},
   "outputs": [],
   "source": []
  }
 ],
 "metadata": {
  "kernelspec": {
   "display_name": "Python 3 (ipykernel)",
   "language": "python",
   "name": "python3"
  },
  "language_info": {
   "codemirror_mode": {
    "name": "ipython",
    "version": 3
   },
   "file_extension": ".py",
   "mimetype": "text/x-python",
   "name": "python",
   "nbconvert_exporter": "python",
   "pygments_lexer": "ipython3",
   "version": "3.11.8"
  }
 },
 "nbformat": 4,
 "nbformat_minor": 5
}
